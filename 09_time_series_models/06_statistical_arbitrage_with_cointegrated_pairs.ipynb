{
 "cells": [
  {
   "cell_type": "markdown",
   "metadata": {},
   "source": [
    "# Statistical arbitrage with Cointegration"
   ]
  },
  {
   "cell_type": "markdown",
   "metadata": {},
   "source": [
    "## Pairs Trading & Statistical Arbitrage\n",
    "\n",
    "Statistical arbitrage refers to strategies that employ some statistical model or method to take\n",
    "advantage of what appears to be relative mispricing of assets, while maintaining a level of\n",
    "market neutrality.\n",
    "\n",
    "Pairs trading is a conceptually straightforward strategy that has been employed by algorithmic traders since at least the mid-eighties ([Gatev, Goetzmann, and Rouwenhorst 2006](http://www-stat.wharton.upenn.edu/~steele/Courses/434/434Context/PairsTrading/PairsTradingGGR.pdf)). The goal is to find two assets whose prices have historically moved together, track the spread (the difference between their prices), and, once the spread widens, buy the\n",
    "loser that has dropped below the common trend and short the winner. If the relationship persists, the long and/or the short leg will deliver profits as prices converge and the positions are closed.\n",
    "\n",
    "This approach extends to a multivariate context by forming baskets from multiple securities and trading one asset against a basket of two baskets against each other.\n",
    "\n",
    "## Pairs Trading in Practice\n",
    "\n",
    "In practice, the strategy requires two steps:\n",
    "\n",
    "1. **Formation phase**: Identify securities that have a long-term mean-reverting relationship. Ideally, the spread should have a high variance to allow for frequent profitable trades while reliably reverting to the common trend.\n",
    "2. **Trading phase**: Trigger entry and exit trading rules as price movements cause the spread to diverge and converge.\n",
    "\n",
    "Several approaches to the formation and trading phases have emerged from increasingly active research in this area, across multiple asset classes, over the last several years. The book outlines the key differences between them; the notebook dives into an example application."
   ]
  },
  {
   "cell_type": "markdown",
   "metadata": {},
   "source": [
    "## Imports & Settings"
   ]
  },
  {
   "cell_type": "code",
   "execution_count": 1,
   "metadata": {
    "ExecuteTime": {
     "end_time": "2020-06-19T02:42:47.349889Z",
     "start_time": "2020-06-19T02:42:47.347632Z"
    }
   },
   "outputs": [],
   "source": [
    "import warnings\n",
    "warnings.filterwarnings('ignore')"
   ]
  },
  {
   "cell_type": "code",
   "execution_count": 2,
   "metadata": {
    "ExecuteTime": {
     "end_time": "2020-06-19T02:42:47.908593Z",
     "start_time": "2020-06-19T02:42:47.351191Z"
    }
   },
   "outputs": [],
   "source": [
    "from collections import Counter\n",
    "\n",
    "from time import time\n",
    "from pathlib import Path\n",
    "\n",
    "import numpy as np\n",
    "import pandas as pd\n",
    "\n",
    "from pykalman import KalmanFilter\n",
    "from statsmodels.tsa.stattools import coint\n",
    "from statsmodels.tsa.vector_ar.vecm import coint_johansen\n",
    "from statsmodels.tsa.api import VAR\n",
    "\n",
    "import matplotlib.pyplot as plt\n",
    "import seaborn as sns"
   ]
  },
  {
   "cell_type": "code",
   "execution_count": 3,
   "metadata": {
    "ExecuteTime": {
     "end_time": "2020-06-19T02:42:47.912091Z",
     "start_time": "2020-06-19T02:42:47.909755Z"
    }
   },
   "outputs": [],
   "source": [
    "idx = pd.IndexSlice\n",
    "sns.set_style('whitegrid')"
   ]
  },
  {
   "cell_type": "code",
   "execution_count": 4,
   "metadata": {
    "ExecuteTime": {
     "end_time": "2020-06-19T02:42:47.933578Z",
     "start_time": "2020-06-19T02:42:47.927007Z"
    }
   },
   "outputs": [],
   "source": [
    "def format_time(t):\n",
    "    m_, s = divmod(t, 60)\n",
    "    h, m = divmod(m_, 60)\n",
    "    return f'{h:>02.0f}:{m:>02.0f}:{s:>02.0f}'"
   ]
  },
  {
   "cell_type": "markdown",
   "metadata": {},
   "source": [
    "### Johansen Test Critical Values"
   ]
  },
  {
   "cell_type": "code",
   "execution_count": 5,
   "metadata": {
    "ExecuteTime": {
     "end_time": "2020-06-19T02:42:47.943279Z",
     "start_time": "2020-06-19T02:42:47.934611Z"
    }
   },
   "outputs": [],
   "source": [
    "critical_values = {0: {.9: 13.4294, .95: 15.4943, .99: 19.9349},\n",
    "                   1: {.9: 2.7055, .95: 3.8415, .99: 6.6349}}"
   ]
  },
  {
   "cell_type": "code",
   "execution_count": 6,
   "metadata": {
    "ExecuteTime": {
     "end_time": "2020-06-19T02:42:47.951303Z",
     "start_time": "2020-06-19T02:42:47.944195Z"
    }
   },
   "outputs": [],
   "source": [
    "trace0_cv = critical_values[0][.95] # critical value for 0 cointegration relationships\n",
    "trace1_cv = critical_values[1][.95] # critical value for 1 cointegration relationship"
   ]
  },
  {
   "cell_type": "markdown",
   "metadata": {},
   "source": [
    "## Load Data"
   ]
  },
  {
   "cell_type": "code",
   "execution_count": 7,
   "metadata": {
    "ExecuteTime": {
     "end_time": "2020-06-19T13:03:36.116641Z",
     "start_time": "2020-06-19T13:03:36.109897Z"
    }
   },
   "outputs": [],
   "source": [
    "DATA_PATH = Path('/media/n1c0/SanDiskSSD/') \n",
    "STORE = DATA_PATH / 'assets.h5'"
   ]
  },
  {
   "cell_type": "markdown",
   "metadata": {},
   "source": [
    "### Get backtest prices"
   ]
  },
  {
   "cell_type": "markdown",
   "metadata": {},
   "source": [
    "Combine OHLCV prices for relevant stock and ETF tickers."
   ]
  },
  {
   "cell_type": "code",
   "execution_count": 8,
   "metadata": {
    "ExecuteTime": {
     "end_time": "2020-06-19T13:09:37.773341Z",
     "start_time": "2020-06-19T13:09:37.761245Z"
    }
   },
   "outputs": [],
   "source": [
    "def get_backtest_prices():\n",
    "    with pd.HDFStore('data.h5') as store:\n",
    "        tickers = store['tickers']\n",
    "\n",
    "    with pd.HDFStore(STORE) as store:\n",
    "        prices = (pd.concat([\n",
    "            store['stooq/us/nyse/stocks/prices'],\n",
    "            store['stooq/us/nyse/etfs/prices'],\n",
    "            store['stooq/us/nasdaq/etfs/prices'],\n",
    "            store['stooq/us/nasdaq/stocks/prices']])\n",
    "                  .sort_index()\n",
    "                  .loc[idx[tickers.index, '2016':'2019'], :])\n",
    "    print(prices.info(show_counts=True))\n",
    "    prices.to_hdf('backtest.h5', 'prices')\n",
    "    tickers.to_hdf('backtest.h5', 'tickers')"
   ]
  },
  {
   "cell_type": "code",
   "execution_count": 18,
   "metadata": {
    "ExecuteTime": {
     "end_time": "2020-06-19T13:10:04.571934Z",
     "start_time": "2020-06-19T13:09:38.060713Z"
    }
   },
   "outputs": [
    {
     "name": "stdout",
     "output_type": "stream",
     "text": [
      "<class 'pandas.core.frame.DataFrame'>\n",
      "MultiIndex: 305824 entries, ('AA.US', Timestamp('2016-01-04 00:00:00')) to ('WYNN.US', Timestamp('2019-12-31 00:00:00'))\n",
      "Data columns (total 5 columns):\n",
      " #   Column  Non-Null Count   Dtype  \n",
      "---  ------  --------------   -----  \n",
      " 0   open    305824 non-null  float64\n",
      " 1   high    305824 non-null  float64\n",
      " 2   low     305824 non-null  float64\n",
      " 3   close   305824 non-null  float64\n",
      " 4   volume  305824 non-null  float64\n",
      "dtypes: float64(5)\n",
      "memory usage: 13.2+ MB\n",
      "None\n"
     ]
    }
   ],
   "source": [
    "get_backtest_prices()"
   ]
  },
  {
   "cell_type": "markdown",
   "metadata": {},
   "source": [
    "### Load Stock Prices"
   ]
  },
  {
   "cell_type": "code",
   "execution_count": 9,
   "metadata": {
    "ExecuteTime": {
     "end_time": "2020-06-19T02:42:48.043300Z",
     "start_time": "2020-06-19T02:42:47.984127Z"
    }
   },
   "outputs": [
    {
     "name": "stdout",
     "output_type": "stream",
     "text": [
      "<class 'pandas.core.frame.DataFrame'>\n",
      "DatetimeIndex: 1258 entries, 2015-01-02 to 2019-12-31\n",
      "Columns: 172 entries, AAPL.US to AEP.US\n",
      "dtypes: float64(172)\n",
      "memory usage: 1.7 MB\n"
     ]
    }
   ],
   "source": [
    "# see notebook 05_cointegration_tests\n",
    "stocks = pd.read_hdf('data.h5', 'stocks/close').loc['2015':]\n",
    "stocks.info()"
   ]
  },
  {
   "cell_type": "markdown",
   "metadata": {},
   "source": [
    "### Load ETF Data"
   ]
  },
  {
   "cell_type": "code",
   "execution_count": 10,
   "metadata": {
    "ExecuteTime": {
     "end_time": "2020-06-19T02:42:48.064535Z",
     "start_time": "2020-06-19T02:42:48.044660Z"
    }
   },
   "outputs": [
    {
     "name": "stdout",
     "output_type": "stream",
     "text": [
      "<class 'pandas.core.frame.DataFrame'>\n",
      "DatetimeIndex: 1258 entries, 2015-01-02 to 2019-12-31\n",
      "Columns: 132 entries, SPY.US to EWX.US\n",
      "dtypes: float64(132)\n",
      "memory usage: 1.3 MB\n"
     ]
    }
   ],
   "source": [
    "# see notebook 05_cointegration_tests\n",
    "etfs = pd.read_hdf('data.h5', 'etfs/close').loc['2015':]\n",
    "etfs.info()"
   ]
  },
  {
   "cell_type": "markdown",
   "metadata": {},
   "source": [
    "### Load Ticker Dictionary"
   ]
  },
  {
   "cell_type": "code",
   "execution_count": 11,
   "metadata": {
    "ExecuteTime": {
     "end_time": "2020-06-19T02:42:48.072961Z",
     "start_time": "2020-06-19T02:42:48.066585Z"
    }
   },
   "outputs": [],
   "source": [
    "names = pd.read_hdf('data.h5', 'tickers').to_dict()"
   ]
  },
  {
   "cell_type": "code",
   "execution_count": 12,
   "metadata": {
    "ExecuteTime": {
     "end_time": "2020-06-19T02:42:48.083843Z",
     "start_time": "2020-06-19T02:42:48.074540Z"
    }
   },
   "outputs": [
    {
     "data": {
      "text/plain": [
       "304"
      ]
     },
     "execution_count": 12,
     "metadata": {},
     "output_type": "execute_result"
    }
   ],
   "source": [
    "pd.Series(names).count()"
   ]
  },
  {
   "cell_type": "markdown",
   "metadata": {},
   "source": [
    "## Precompute Cointegration"
   ]
  },
  {
   "cell_type": "code",
   "execution_count": 13,
   "metadata": {
    "ExecuteTime": {
     "end_time": "2020-06-19T02:42:48.095421Z",
     "start_time": "2020-06-19T02:42:48.085219Z"
    }
   },
   "outputs": [],
   "source": [
    "def test_cointegration(etfs, stocks, test_end, lookback=2):\n",
    "    start = time()\n",
    "    results = []\n",
    "    test_start = test_end - pd.DateOffset(years=lookback) + pd.DateOffset(days=1)\n",
    "    etf_tickers = etfs.columns.tolist()\n",
    "    etf_data = etfs.loc[str(test_start):str(test_end)]\n",
    "\n",
    "    stock_tickers = stocks.columns.tolist()\n",
    "    stock_data = stocks.loc[str(test_start):str(test_end)]\n",
    "    n = len(etf_tickers) * len(stock_tickers)\n",
    "    j = 0\n",
    "    for i, s1 in enumerate(etf_tickers, 1):\n",
    "        for s2 in stock_tickers:\n",
    "            j += 1\n",
    "            if j % 1000 == 0:\n",
    "                print(f'\\t{j:5,.0f} ({j/n:3.1%}) | {time() - start:.2f}')\n",
    "            df = etf_data.loc[:, [s1]].dropna().join(stock_data.loc[:, [s2]].dropna(), how='inner')\n",
    "            with warnings.catch_warnings():\n",
    "                warnings.simplefilter('ignore')\n",
    "                var = VAR(df)\n",
    "                lags = var.select_order()\n",
    "                result = [test_end, s1, s2]\n",
    "                order = lags.selected_orders['aic']\n",
    "                result += [coint(df[s1], df[s2], trend='c')[1], coint(df[s2], df[s1], trend='c')[1]]\n",
    "\n",
    "            cj = coint_johansen(df, det_order=0, k_ar_diff=order)\n",
    "            result += (list(cj.lr1) + list(cj.lr2) + list(cj.evec[:, cj.ind[0]]))\n",
    "            results.append(result)\n",
    "    return results"
   ]
  },
  {
   "cell_type": "markdown",
   "metadata": {},
   "source": [
    "### Define Test Periods"
   ]
  },
  {
   "cell_type": "code",
   "execution_count": 14,
   "metadata": {
    "ExecuteTime": {
     "end_time": "2020-06-19T02:42:48.110785Z",
     "start_time": "2020-06-19T02:42:48.096915Z"
    }
   },
   "outputs": [
    {
     "data": {
      "text/plain": [
       "DatetimeIndex(['2016-12-31', '2017-03-31', '2017-06-30', '2017-09-30',\n",
       "               '2017-12-31', '2018-03-31', '2018-06-30', '2018-09-30',\n",
       "               '2018-12-31', '2019-03-31', '2019-06-30'],\n",
       "              dtype='datetime64[ns]', name='date', freq='QE-DEC')"
      ]
     },
     "execution_count": 14,
     "metadata": {},
     "output_type": "execute_result"
    }
   ],
   "source": [
    "dates = stocks.loc['2016-12':'2019-6'].resample('Q').last().index\n",
    "dates"
   ]
  },
  {
   "cell_type": "markdown",
   "metadata": {},
   "source": [
    "### Run Tests"
   ]
  },
  {
   "cell_type": "code",
   "execution_count": 25,
   "metadata": {
    "ExecuteTime": {
     "end_time": "2020-06-19T06:01:29.759471Z",
     "start_time": "2020-06-19T02:42:48.111942Z"
    }
   },
   "outputs": [
    {
     "name": "stdout",
     "output_type": "stream",
     "text": [
      "2016-12-31 00:00:00\n",
      "\t1,000 (4.4%) | 33.28\n",
      "\t2,000 (8.8%) | 73.11\n",
      "\t3,000 (13.2%) | 109.06\n",
      "\t4,000 (17.6%) | 145.16\n",
      "\t5,000 (22.0%) | 181.27\n",
      "\t6,000 (26.4%) | 218.29\n",
      "\t7,000 (30.8%) | 256.29\n",
      "\t8,000 (35.2%) | 299.41\n",
      "\t9,000 (39.6%) | 336.52\n",
      "\t10,000 (44.0%) | 376.90\n",
      "\t11,000 (48.4%) | 416.05\n",
      "\t12,000 (52.9%) | 461.00\n",
      "\t13,000 (57.3%) | 499.90\n",
      "\t14,000 (61.7%) | 537.39\n",
      "\t15,000 (66.1%) | 588.57\n",
      "\t16,000 (70.5%) | 645.54\n",
      "\t17,000 (74.9%) | 682.99\n",
      "\t18,000 (79.3%) | 747.15\n",
      "\t19,000 (83.7%) | 787.12\n",
      "\t20,000 (88.1%) | 823.58\n",
      "\t21,000 (92.5%) | 860.39\n",
      "\t22,000 (96.9%) | 899.48\n",
      "2017-03-31 00:00:00\n",
      "\t1,000 (4.4%) | 42.75\n",
      "\t2,000 (8.8%) | 86.32\n",
      "\t3,000 (13.2%) | 125.61\n",
      "\t4,000 (17.6%) | 163.50\n",
      "\t5,000 (22.0%) | 201.77\n",
      "\t6,000 (26.4%) | 238.92\n",
      "\t7,000 (30.8%) | 281.89\n",
      "\t8,000 (35.2%) | 319.92\n",
      "\t9,000 (39.6%) | 354.62\n",
      "\t10,000 (44.0%) | 394.07\n",
      "\t11,000 (48.4%) | 432.69\n",
      "\t12,000 (52.9%) | 473.53\n",
      "\t13,000 (57.3%) | 512.87\n",
      "\t14,000 (61.7%) | 551.39\n",
      "\t15,000 (66.1%) | 589.87\n",
      "\t16,000 (70.5%) | 629.80\n",
      "\t17,000 (74.9%) | 669.80\n",
      "\t18,000 (79.3%) | 709.80\n",
      "\t19,000 (83.7%) | 757.27\n",
      "\t20,000 (88.1%) | 826.04\n",
      "\t21,000 (92.5%) | 882.36\n",
      "\t22,000 (96.9%) | 934.61\n",
      "2017-06-30 00:00:00\n",
      "\t1,000 (4.4%) | 38.07\n",
      "\t2,000 (8.8%) | 75.03\n",
      "\t3,000 (13.2%) | 111.93\n",
      "\t4,000 (17.6%) | 149.64\n",
      "\t5,000 (22.0%) | 188.25\n",
      "\t6,000 (26.4%) | 224.88\n",
      "\t7,000 (30.8%) | 261.99\n",
      "\t8,000 (35.2%) | 299.34\n",
      "\t9,000 (39.6%) | 342.08\n",
      "\t10,000 (44.0%) | 380.80\n",
      "\t11,000 (48.4%) | 418.20\n",
      "\t12,000 (52.9%) | 456.56\n",
      "\t13,000 (57.3%) | 501.03\n",
      "\t14,000 (61.7%) | 566.67\n",
      "\t15,000 (66.1%) | 604.01\n",
      "\t16,000 (70.5%) | 654.44\n",
      "\t17,000 (74.9%) | 716.09\n",
      "\t18,000 (79.3%) | 765.21\n",
      "\t19,000 (83.7%) | 802.33\n",
      "\t20,000 (88.1%) | 838.64\n",
      "\t21,000 (92.5%) | 875.98\n",
      "\t22,000 (96.9%) | 913.74\n",
      "2017-09-30 00:00:00\n",
      "\t1,000 (4.4%) | 35.85\n",
      "\t2,000 (8.8%) | 73.03\n",
      "\t3,000 (13.2%) | 110.24\n",
      "\t4,000 (17.6%) | 159.64\n",
      "\t5,000 (22.0%) | 198.28\n",
      "\t6,000 (26.4%) | 237.61\n",
      "\t7,000 (30.8%) | 276.34\n",
      "\t8,000 (35.2%) | 316.04\n",
      "\t9,000 (39.6%) | 354.85\n",
      "\t10,000 (44.0%) | 391.33\n",
      "\t11,000 (48.4%) | 429.63\n",
      "\t12,000 (52.9%) | 466.45\n",
      "\t13,000 (57.3%) | 505.47\n",
      "\t14,000 (61.7%) | 543.19\n",
      "\t15,000 (66.1%) | 581.18\n",
      "\t16,000 (70.5%) | 619.07\n",
      "\t17,000 (74.9%) | 656.64\n",
      "\t18,000 (79.3%) | 693.97\n",
      "\t19,000 (83.7%) | 731.64\n",
      "\t20,000 (88.1%) | 769.76\n",
      "\t21,000 (92.5%) | 806.16\n",
      "\t22,000 (96.9%) | 847.23\n",
      "2017-12-31 00:00:00\n",
      "\t1,000 (4.4%) | 38.59\n",
      "\t2,000 (8.8%) | 79.76\n",
      "\t3,000 (13.2%) | 146.71\n",
      "\t4,000 (17.6%) | 213.77\n",
      "\t5,000 (22.0%) | 280.78\n",
      "\t6,000 (26.4%) | 328.58\n",
      "\t7,000 (30.8%) | 387.83\n",
      "\t8,000 (35.2%) | 433.88\n",
      "\t9,000 (39.6%) | 472.04\n",
      "\t10,000 (44.0%) | 511.84\n",
      "\t11,000 (48.4%) | 578.39\n",
      "\t12,000 (52.9%) | 645.56\n",
      "\t13,000 (57.3%) | 687.73\n",
      "\t14,000 (61.7%) | 725.52\n",
      "\t15,000 (66.1%) | 770.00\n",
      "\t16,000 (70.5%) | 837.03\n",
      "\t17,000 (74.9%) | 903.88\n",
      "\t18,000 (79.3%) | 970.58\n",
      "\t19,000 (83.7%) | 1037.37\n",
      "\t20,000 (88.1%) | 1104.17\n",
      "\t21,000 (92.5%) | 1171.07\n",
      "\t22,000 (96.9%) | 1238.45\n",
      "2018-03-31 00:00:00\n",
      "\t1,000 (4.4%) | 45.88\n",
      "\t2,000 (8.8%) | 83.94\n",
      "\t3,000 (13.2%) | 121.52\n",
      "\t4,000 (17.6%) | 160.52\n",
      "\t5,000 (22.0%) | 201.13\n",
      "\t6,000 (26.4%) | 269.21\n",
      "\t7,000 (30.8%) | 337.04\n",
      "\t8,000 (35.2%) | 405.07\n",
      "\t9,000 (39.6%) | 473.31\n",
      "\t10,000 (44.0%) | 541.68\n",
      "\t11,000 (48.4%) | 609.71\n",
      "\t12,000 (52.9%) | 678.05\n",
      "\t13,000 (57.3%) | 743.19\n",
      "\t14,000 (61.7%) | 785.07\n",
      "\t15,000 (66.1%) | 823.67\n",
      "\t16,000 (70.5%) | 862.88\n",
      "\t17,000 (74.9%) | 900.25\n",
      "\t18,000 (79.3%) | 938.42\n",
      "\t19,000 (83.7%) | 977.45\n",
      "\t20,000 (88.1%) | 1014.07\n",
      "\t21,000 (92.5%) | 1052.33\n",
      "\t22,000 (96.9%) | 1112.02\n",
      "2018-06-30 00:00:00\n",
      "\t1,000 (4.4%) | 60.05\n",
      "\t2,000 (8.8%) | 100.72\n",
      "\t3,000 (13.2%) | 168.05\n",
      "\t4,000 (17.6%) | 206.89\n",
      "\t5,000 (22.0%) | 244.80\n",
      "\t6,000 (26.4%) | 283.23\n",
      "\t7,000 (30.8%) | 325.24\n",
      "\t8,000 (35.2%) | 362.91\n",
      "\t9,000 (39.6%) | 427.01\n",
      "\t10,000 (44.0%) | 494.37\n",
      "\t11,000 (48.4%) | 561.69\n",
      "\t12,000 (52.9%) | 629.09\n",
      "\t13,000 (57.3%) | 695.75\n",
      "\t14,000 (61.7%) | 746.98\n",
      "\t15,000 (66.1%) | 790.97\n",
      "\t16,000 (70.5%) | 837.43\n",
      "\t17,000 (74.9%) | 885.59\n",
      "\t18,000 (79.3%) | 952.23\n",
      "\t19,000 (83.7%) | 1010.50\n",
      "\t20,000 (88.1%) | 1048.13\n",
      "\t21,000 (92.5%) | 1085.51\n",
      "\t22,000 (96.9%) | 1124.67\n",
      "2018-09-30 00:00:00\n",
      "\t1,000 (4.4%) | 39.61\n",
      "\t2,000 (8.8%) | 75.64\n",
      "\t3,000 (13.2%) | 112.88\n",
      "\t4,000 (17.6%) | 150.13\n",
      "\t5,000 (22.0%) | 187.59\n",
      "\t6,000 (26.4%) | 226.42\n",
      "\t7,000 (30.8%) | 262.91\n",
      "\t8,000 (35.2%) | 299.63\n",
      "\t9,000 (39.6%) | 342.03\n",
      "\t10,000 (44.0%) | 388.51\n",
      "\t11,000 (48.4%) | 426.10\n",
      "\t12,000 (52.9%) | 464.05\n",
      "\t13,000 (57.3%) | 506.25\n",
      "\t14,000 (61.7%) | 544.92\n",
      "\t15,000 (66.1%) | 584.95\n",
      "\t16,000 (70.5%) | 623.67\n",
      "\t17,000 (74.9%) | 680.11\n",
      "\t18,000 (79.3%) | 717.04\n",
      "\t19,000 (83.7%) | 753.90\n",
      "\t20,000 (88.1%) | 792.86\n",
      "\t21,000 (92.5%) | 835.16\n",
      "\t22,000 (96.9%) | 874.16\n",
      "2018-12-31 00:00:00\n",
      "\t1,000 (4.4%) | 37.14\n",
      "\t2,000 (8.8%) | 74.21\n",
      "\t3,000 (13.2%) | 113.81\n",
      "\t4,000 (17.6%) | 152.44\n",
      "\t5,000 (22.0%) | 187.61\n",
      "\t6,000 (26.4%) | 225.73\n",
      "\t7,000 (30.8%) | 263.43\n",
      "\t8,000 (35.2%) | 302.21\n",
      "\t9,000 (39.6%) | 340.45\n",
      "\t10,000 (44.0%) | 378.65\n",
      "\t11,000 (48.4%) | 415.42\n",
      "\t12,000 (52.9%) | 452.36\n",
      "\t13,000 (57.3%) | 489.28\n",
      "\t14,000 (61.7%) | 528.72\n",
      "\t15,000 (66.1%) | 566.99\n",
      "\t16,000 (70.5%) | 605.69\n",
      "\t17,000 (74.9%) | 645.53\n",
      "\t18,000 (79.3%) | 685.90\n",
      "\t19,000 (83.7%) | 724.82\n",
      "\t20,000 (88.1%) | 763.21\n",
      "\t21,000 (92.5%) | 801.81\n",
      "\t22,000 (96.9%) | 840.30\n",
      "2019-03-31 00:00:00\n",
      "\t1,000 (4.4%) | 38.41\n",
      "\t2,000 (8.8%) | 77.95\n",
      "\t3,000 (13.2%) | 129.55\n",
      "\t4,000 (17.6%) | 179.88\n",
      "\t5,000 (22.0%) | 216.76\n",
      "\t6,000 (26.4%) | 253.55\n",
      "\t7,000 (30.8%) | 295.93\n",
      "\t8,000 (35.2%) | 336.43\n",
      "\t9,000 (39.6%) | 374.00\n",
      "\t10,000 (44.0%) | 412.55\n",
      "\t11,000 (48.4%) | 449.35\n",
      "\t12,000 (52.9%) | 487.51\n",
      "\t13,000 (57.3%) | 524.35\n",
      "\t14,000 (61.7%) | 561.48\n",
      "\t15,000 (66.1%) | 614.71\n",
      "\t16,000 (70.5%) | 655.83\n",
      "\t17,000 (74.9%) | 697.39\n",
      "\t18,000 (79.3%) | 736.56\n",
      "\t19,000 (83.7%) | 777.28\n",
      "\t20,000 (88.1%) | 818.02\n",
      "\t21,000 (92.5%) | 856.37\n",
      "\t22,000 (96.9%) | 901.85\n",
      "2019-06-30 00:00:00\n",
      "\t1,000 (4.4%) | 38.59\n",
      "\t2,000 (8.8%) | 77.25\n",
      "\t3,000 (13.2%) | 117.55\n",
      "\t4,000 (17.6%) | 156.56\n",
      "\t5,000 (22.0%) | 207.43\n",
      "\t6,000 (26.4%) | 248.26\n",
      "\t7,000 (30.8%) | 283.96\n",
      "\t8,000 (35.2%) | 321.57\n",
      "\t9,000 (39.6%) | 356.65\n",
      "\t10,000 (44.0%) | 398.68\n",
      "\t11,000 (48.4%) | 435.41\n",
      "\t12,000 (52.9%) | 475.24\n",
      "\t13,000 (57.3%) | 513.32\n",
      "\t14,000 (61.7%) | 552.09\n",
      "\t15,000 (66.1%) | 589.22\n",
      "\t16,000 (70.5%) | 628.14\n",
      "\t17,000 (74.9%) | 670.06\n",
      "\t18,000 (79.3%) | 719.42\n",
      "\t19,000 (83.7%) | 756.27\n",
      "\t20,000 (88.1%) | 793.58\n",
      "\t21,000 (92.5%) | 832.27\n",
      "\t22,000 (96.9%) | 869.30\n"
     ]
    }
   ],
   "source": [
    "test_results = []\n",
    "columns = ['test_end', 's1', 's2', 'eg1', 'eg2',\n",
    "           'trace0', 'trace1', 'eig0', 'eig1', 'w1', 'w2']\n",
    "\n",
    "for test_end in dates:\n",
    "    print(test_end)\n",
    "    result = test_cointegration(etfs, stocks, test_end=test_end)\n",
    "    test_results.append(pd.DataFrame(result, columns=columns))\n",
    "\n",
    "pd.concat(test_results).to_hdf('backtest.h5', 'cointegration_test')"
   ]
  },
  {
   "cell_type": "markdown",
   "metadata": {},
   "source": [
    "#### Reload  Test Results"
   ]
  },
  {
   "cell_type": "code",
   "execution_count": 15,
   "metadata": {
    "ExecuteTime": {
     "end_time": "2020-06-19T06:01:29.819729Z",
     "start_time": "2020-06-19T06:01:29.760347Z"
    }
   },
   "outputs": [
    {
     "name": "stdout",
     "output_type": "stream",
     "text": [
      "<class 'pandas.core.frame.DataFrame'>\n",
      "Index: 249744 entries, 0 to 22703\n",
      "Data columns (total 11 columns):\n",
      " #   Column    Non-Null Count   Dtype         \n",
      "---  ------    --------------   -----         \n",
      " 0   test_end  249744 non-null  datetime64[ns]\n",
      " 1   s1        249744 non-null  object        \n",
      " 2   s2        249744 non-null  object        \n",
      " 3   eg1       249744 non-null  float64       \n",
      " 4   eg2       249744 non-null  float64       \n",
      " 5   trace0    249744 non-null  float64       \n",
      " 6   trace1    249744 non-null  float64       \n",
      " 7   eig0      249744 non-null  float64       \n",
      " 8   eig1      249744 non-null  float64       \n",
      " 9   w1        249744 non-null  float64       \n",
      " 10  w2        249744 non-null  float64       \n",
      "dtypes: datetime64[ns](1), float64(8), object(2)\n",
      "memory usage: 22.9+ MB\n"
     ]
    }
   ],
   "source": [
    "test_results = pd.read_hdf('backtest.h5', 'cointegration_test')\n",
    "test_results.info()"
   ]
  },
  {
   "cell_type": "markdown",
   "metadata": {},
   "source": [
    "## Identify Cointegrated Pairs"
   ]
  },
  {
   "cell_type": "markdown",
   "metadata": {},
   "source": [
    "### Significant Johansen Trace Statistic"
   ]
  },
  {
   "cell_type": "code",
   "execution_count": 16,
   "metadata": {
    "ExecuteTime": {
     "end_time": "2020-06-19T06:01:29.824433Z",
     "start_time": "2020-06-19T06:01:29.820808Z"
    }
   },
   "outputs": [],
   "source": [
    "test_results['joh_sig'] = ((test_results.trace0 > trace0_cv) &\n",
    "                           (test_results.trace1 > trace1_cv))"
   ]
  },
  {
   "cell_type": "code",
   "execution_count": 17,
   "metadata": {
    "ExecuteTime": {
     "end_time": "2020-06-19T06:01:29.834934Z",
     "start_time": "2020-06-19T06:01:29.825442Z"
    }
   },
   "outputs": [
    {
     "data": {
      "text/plain": [
       "joh_sig\n",
       "False    0.951118\n",
       "True     0.048882\n",
       "Name: proportion, dtype: float64"
      ]
     },
     "execution_count": 17,
     "metadata": {},
     "output_type": "execute_result"
    }
   ],
   "source": [
    "test_results.joh_sig.value_counts(normalize=True)"
   ]
  },
  {
   "cell_type": "markdown",
   "metadata": {},
   "source": [
    "### Significant Engle Granger Test"
   ]
  },
  {
   "cell_type": "code",
   "execution_count": 18,
   "metadata": {
    "ExecuteTime": {
     "end_time": "2020-06-19T06:01:29.846685Z",
     "start_time": "2020-06-19T06:01:29.835871Z"
    }
   },
   "outputs": [],
   "source": [
    "test_results['eg'] = test_results[['eg1', 'eg2']].min(axis=1)\n",
    "test_results['s1_dep'] = test_results.eg1 < test_results.eg2\n",
    "test_results['eg_sig'] = (test_results.eg < .05)"
   ]
  },
  {
   "cell_type": "code",
   "execution_count": 19,
   "metadata": {
    "ExecuteTime": {
     "end_time": "2020-06-19T06:01:29.853515Z",
     "start_time": "2020-06-19T06:01:29.847666Z"
    }
   },
   "outputs": [
    {
     "data": {
      "text/plain": [
       "eg_sig\n",
       "False    0.912699\n",
       "True     0.087301\n",
       "Name: proportion, dtype: float64"
      ]
     },
     "execution_count": 19,
     "metadata": {},
     "output_type": "execute_result"
    }
   ],
   "source": [
    "test_results.eg_sig.value_counts(normalize=True)"
   ]
  },
  {
   "cell_type": "markdown",
   "metadata": {},
   "source": [
    "### Comparison Engle-Granger vs Johansen"
   ]
  },
  {
   "cell_type": "code",
   "execution_count": 20,
   "metadata": {
    "ExecuteTime": {
     "end_time": "2020-06-19T06:01:29.860981Z",
     "start_time": "2020-06-19T06:01:29.854361Z"
    }
   },
   "outputs": [
    {
     "data": {
      "text/plain": [
       "coint\n",
       "False    0.987856\n",
       "True     0.012144\n",
       "Name: proportion, dtype: float64"
      ]
     },
     "execution_count": 20,
     "metadata": {},
     "output_type": "execute_result"
    }
   ],
   "source": [
    "test_results['coint'] = (test_results.eg_sig & test_results.joh_sig)\n",
    "test_results.coint.value_counts(normalize=True)"
   ]
  },
  {
   "cell_type": "code",
   "execution_count": 21,
   "metadata": {
    "ExecuteTime": {
     "end_time": "2020-06-19T06:01:29.899199Z",
     "start_time": "2020-06-19T06:01:29.861982Z"
    }
   },
   "outputs": [
    {
     "name": "stdout",
     "output_type": "stream",
     "text": [
      "<class 'pandas.core.frame.DataFrame'>\n",
      "Index: 249744 entries, 0 to 22703\n",
      "Data columns (total 10 columns):\n",
      " #   Column    Non-Null Count   Dtype         \n",
      "---  ------    --------------   -----         \n",
      " 0   test_end  249744 non-null  datetime64[ns]\n",
      " 1   s1        249744 non-null  object        \n",
      " 2   s2        249744 non-null  object        \n",
      " 3   w1        249744 non-null  float64       \n",
      " 4   w2        249744 non-null  float64       \n",
      " 5   joh_sig   249744 non-null  bool          \n",
      " 6   eg        249744 non-null  float64       \n",
      " 7   s1_dep    249744 non-null  bool          \n",
      " 8   eg_sig    249744 non-null  bool          \n",
      " 9   coint     249744 non-null  bool          \n",
      "dtypes: bool(4), datetime64[ns](1), float64(3), object(2)\n",
      "memory usage: 14.3+ MB\n"
     ]
    }
   ],
   "source": [
    "test_results = test_results.drop(['eg1', 'eg2', 'trace0', 'trace1', 'eig0', 'eig1'], axis=1)\n",
    "test_results.info()"
   ]
  },
  {
   "cell_type": "markdown",
   "metadata": {},
   "source": [
    "### Comparison"
   ]
  },
  {
   "cell_type": "code",
   "execution_count": 22,
   "metadata": {
    "ExecuteTime": {
     "end_time": "2020-06-19T06:01:30.054274Z",
     "start_time": "2020-06-19T06:01:29.900025Z"
    }
   },
   "outputs": [
    {
     "data": {
      "image/png": "[encoded data removed]",
      "text/plain": [
       "<Figure size 640x480 with 1 Axes>"
      ]
     },
     "metadata": {},
     "output_type": "display_data"
    }
   ],
   "source": [
    "ax = test_results.groupby('test_end').coint.mean().to_frame('# Pairs').plot()\n",
    "ax.axhline(.05, lw=1, ls='--', c='k');"
   ]
  },
  {
   "cell_type": "markdown",
   "metadata": {},
   "source": [
    "### Select Candidate Pairs"
   ]
  },
  {
   "cell_type": "code",
   "execution_count": 23,
   "metadata": {
    "ExecuteTime": {
     "end_time": "2020-06-19T06:01:30.058145Z",
     "start_time": "2020-06-19T06:01:30.055126Z"
    }
   },
   "outputs": [],
   "source": [
    "def select_candidate_pairs(data):\n",
    "    candidates = data[data.joh_sig | data.eg_sig]\n",
    "    candidates['y'] = candidates.apply(lambda x: x.s1 if x.s1_dep else x.s2, axis=1)\n",
    "    candidates['x'] = candidates.apply(lambda x: x.s2 if x.s1_dep else x.s1, axis=1)\n",
    "    return candidates.drop(['s1_dep', 's1', 's2'], axis=1)"
   ]
  },
  {
   "cell_type": "code",
   "execution_count": 24,
   "metadata": {
    "ExecuteTime": {
     "end_time": "2020-06-19T06:01:31.623786Z",
     "start_time": "2020-06-19T06:01:30.059031Z"
    }
   },
   "outputs": [],
   "source": [
    "candidates = select_candidate_pairs(test_results)"
   ]
  },
  {
   "cell_type": "code",
   "execution_count": 25,
   "metadata": {
    "ExecuteTime": {
     "end_time": "2020-06-19T06:01:31.640534Z",
     "start_time": "2020-06-19T06:01:31.624849Z"
    }
   },
   "outputs": [],
   "source": [
    "candidates.to_hdf('backtest.h5', 'candidates')"
   ]
  },
  {
   "cell_type": "code",
   "execution_count": 26,
   "metadata": {
    "ExecuteTime": {
     "end_time": "2020-06-19T06:01:31.664395Z",
     "start_time": "2020-06-19T06:01:31.641471Z"
    }
   },
   "outputs": [
    {
     "name": "stdout",
     "output_type": "stream",
     "text": [
      "<class 'pandas.core.frame.DataFrame'>\n",
      "Index: 30978 entries, 8 to 22702\n",
      "Data columns (total 9 columns):\n",
      " #   Column    Non-Null Count  Dtype         \n",
      "---  ------    --------------  -----         \n",
      " 0   test_end  30978 non-null  datetime64[ns]\n",
      " 1   w1        30978 non-null  float64       \n",
      " 2   w2        30978 non-null  float64       \n",
      " 3   joh_sig   30978 non-null  bool          \n",
      " 4   eg        30978 non-null  float64       \n",
      " 5   eg_sig    30978 non-null  bool          \n",
      " 6   coint     30978 non-null  bool          \n",
      " 7   y         30978 non-null  object        \n",
      " 8   x         30978 non-null  object        \n",
      "dtypes: bool(3), datetime64[ns](1), float64(3), object(2)\n",
      "memory usage: 1.7+ MB\n"
     ]
    }
   ],
   "source": [
    "candidates = pd.read_hdf('backtest.h5', 'candidates')\n",
    "candidates.info()"
   ]
  },
  {
   "cell_type": "markdown",
   "metadata": {},
   "source": [
    "#### # Candidates over Time"
   ]
  },
  {
   "cell_type": "code",
   "execution_count": 27,
   "metadata": {
    "ExecuteTime": {
     "end_time": "2020-06-19T06:01:31.795571Z",
     "start_time": "2020-06-19T06:01:31.665218Z"
    }
   },
   "outputs": [
    {
     "data": {
      "text/plain": [
       "<Axes: xlabel='test_end'>"
      ]
     },
     "execution_count": 27,
     "metadata": {},
     "output_type": "execute_result"
    },
    {
     "data": {
      "image/png": "[encoded data removed]",
      "text/plain": [
       "<Figure size 800x500 with 1 Axes>"
      ]
     },
     "metadata": {},
     "output_type": "display_data"
    }
   ],
   "source": [
    "candidates.groupby('test_end').size().plot(figsize=(8, 5))"
   ]
  },
  {
   "cell_type": "markdown",
   "metadata": {},
   "source": [
    "#### Most Common Pairs "
   ]
  },
  {
   "cell_type": "code",
   "execution_count": 28,
   "metadata": {
    "ExecuteTime": {
     "end_time": "2020-06-19T06:01:31.804899Z",
     "start_time": "2020-06-19T06:01:31.796947Z"
    }
   },
   "outputs": [
    {
     "name": "stdout",
     "output_type": "stream",
     "text": [
      "<class 'pandas.io.pytables.HDFStore'>\n",
      "File path: data.h5\n",
      "/etfs/close              frame        (shape->[2516,132])\n",
      "/stocks/close            frame        (shape->[2516,172])\n",
      "/tickers                 series       (shape->[1])       \n"
     ]
    }
   ],
   "source": [
    "with pd.HDFStore('data.h5') as store:\n",
    "    print(store.info())\n",
    "    tickers = store['tickers']"
   ]
  },
  {
   "cell_type": "code",
   "execution_count": 29,
   "metadata": {
    "ExecuteTime": {
     "end_time": "2020-06-19T06:01:31.824963Z",
     "start_time": "2020-06-19T06:01:31.805700Z"
    }
   },
   "outputs": [
    {
     "name": "stdout",
     "output_type": "stream",
     "text": [
      "<class 'pandas.io.pytables.HDFStore'>\n",
      "File path: backtest.h5\n",
      "/candidates                    frame        (shape->[30978,9])  \n",
      "/cointegration_test            frame        (shape->[249744,11])\n",
      "/prices                        frame        (shape->[305824,5]) \n",
      "/tickers                       series       (shape->[1])        \n"
     ]
    }
   ],
   "source": [
    "with pd.HDFStore('backtest.h5') as store:\n",
    "    print(store.info())"
   ]
  },
  {
   "cell_type": "code",
   "execution_count": 30,
   "metadata": {
    "ExecuteTime": {
     "end_time": "2020-06-19T06:01:31.861630Z",
     "start_time": "2020-06-19T06:01:31.825814Z"
    }
   },
   "outputs": [],
   "source": [
    "counter = Counter()\n",
    "for s1, s2 in zip(candidates[candidates.joh_sig & candidates.eg_sig].y, \n",
    "                  candidates[candidates.joh_sig & candidates.eg_sig].x):\n",
    "    if s1 > s2:\n",
    "        counter[(s2, s1)] += 1\n",
    "    else: \n",
    "        counter[(s1, s2)] += 1"
   ]
  },
  {
   "cell_type": "code",
   "execution_count": 31,
   "metadata": {
    "ExecuteTime": {
     "end_time": "2020-06-19T06:01:31.876602Z",
     "start_time": "2020-06-19T06:01:31.864124Z"
    }
   },
   "outputs": [
    {
     "data": {
      "text/html": [
       "<div>\n",
       "<style scoped>\n",
       "    .dataframe tbody tr th:only-of-type {\n",
       "        vertical-align: middle;\n",
       "    }\n",
       "\n",
       "    .dataframe tbody tr th {\n",
       "        vertical-align: top;\n",
       "    }\n",
       "\n",
       "    .dataframe thead th {\n",
       "        text-align: right;\n",
       "    }\n",
       "</style>\n",
       "<table border=\"1\" class=\"dataframe\">\n",
       "  <thead>\n",
       "    <tr style=\"text-align: right;\">\n",
       "      <th></th>\n",
       "      <th>s1</th>\n",
       "      <th>s2</th>\n",
       "    </tr>\n",
       "  </thead>\n",
       "  <tbody>\n",
       "    <tr>\n",
       "      <th>0</th>\n",
       "      <td>T.US</td>\n",
       "      <td>VOX.US</td>\n",
       "    </tr>\n",
       "    <tr>\n",
       "      <th>1</th>\n",
       "      <td>MDLZ.US</td>\n",
       "      <td>XOP.US</td>\n",
       "    </tr>\n",
       "    <tr>\n",
       "      <th>2</th>\n",
       "      <td>ERX.US</td>\n",
       "      <td>MDLZ.US</td>\n",
       "    </tr>\n",
       "    <tr>\n",
       "      <th>3</th>\n",
       "      <td>MDLZ.US</td>\n",
       "      <td>VDE.US</td>\n",
       "    </tr>\n",
       "    <tr>\n",
       "      <th>4</th>\n",
       "      <td>DIG.US</td>\n",
       "      <td>MDLZ.US</td>\n",
       "    </tr>\n",
       "    <tr>\n",
       "      <th>5</th>\n",
       "      <td>DJP.US</td>\n",
       "      <td>MDLZ.US</td>\n",
       "    </tr>\n",
       "    <tr>\n",
       "      <th>6</th>\n",
       "      <td>GSG.US</td>\n",
       "      <td>MDLZ.US</td>\n",
       "    </tr>\n",
       "    <tr>\n",
       "      <th>7</th>\n",
       "      <td>FXN.US</td>\n",
       "      <td>MDLZ.US</td>\n",
       "    </tr>\n",
       "    <tr>\n",
       "      <th>8</th>\n",
       "      <td>OIH.US</td>\n",
       "      <td>WBA.US</td>\n",
       "    </tr>\n",
       "    <tr>\n",
       "      <th>9</th>\n",
       "      <td>ERX.US</td>\n",
       "      <td>WBA.US</td>\n",
       "    </tr>\n",
       "  </tbody>\n",
       "</table>\n",
       "</div>"
      ],
      "text/plain": [
       "        s1       s2\n",
       "0     T.US   VOX.US\n",
       "1  MDLZ.US   XOP.US\n",
       "2   ERX.US  MDLZ.US\n",
       "3  MDLZ.US   VDE.US\n",
       "4   DIG.US  MDLZ.US\n",
       "5   DJP.US  MDLZ.US\n",
       "6   GSG.US  MDLZ.US\n",
       "7   FXN.US  MDLZ.US\n",
       "8   OIH.US   WBA.US\n",
       "9   ERX.US   WBA.US"
      ]
     },
     "execution_count": 31,
     "metadata": {},
     "output_type": "execute_result"
    }
   ],
   "source": [
    "most_common_pairs = pd.DataFrame(counter.most_common(10))\n",
    "most_common_pairs = pd.DataFrame(most_common_pairs[0].values.tolist(), columns=['s1', 's2'])\n",
    "most_common_pairs"
   ]
  },
  {
   "cell_type": "code",
   "execution_count": 32,
   "metadata": {
    "ExecuteTime": {
     "end_time": "2020-06-19T13:10:24.702579Z",
     "start_time": "2020-06-19T13:10:24.618722Z"
    }
   },
   "outputs": [],
   "source": [
    "with pd.HDFStore('backtest.h5') as store:\n",
    "    prices = store['prices'].close.unstack('ticker').ffill(limit=5)\n",
    "    tickers = store['tickers'].to_dict()"
   ]
  },
  {
   "cell_type": "code",
   "execution_count": 33,
   "metadata": {
    "ExecuteTime": {
     "end_time": "2020-06-19T13:10:24.901984Z",
     "start_time": "2020-06-19T13:10:24.785861Z"
    },
    "scrolled": true
   },
   "outputs": [
    {
     "data": {
      "text/html": [
       "<div>\n",
       "<style scoped>\n",
       "    .dataframe tbody tr th:only-of-type {\n",
       "        vertical-align: middle;\n",
       "    }\n",
       "\n",
       "    .dataframe tbody tr th {\n",
       "        vertical-align: top;\n",
       "    }\n",
       "\n",
       "    .dataframe thead th {\n",
       "        text-align: right;\n",
       "    }\n",
       "</style>\n",
       "<table border=\"1\" class=\"dataframe\">\n",
       "  <thead>\n",
       "    <tr style=\"text-align: right;\">\n",
       "      <th></th>\n",
       "      <th>s1</th>\n",
       "      <th>s2</th>\n",
       "      <th>n</th>\n",
       "      <th>name1</th>\n",
       "      <th>name2</th>\n",
       "    </tr>\n",
       "  </thead>\n",
       "  <tbody>\n",
       "    <tr>\n",
       "      <th>1133</th>\n",
       "      <td>T.US</td>\n",
       "      <td>VOX.US</td>\n",
       "      <td>6</td>\n",
       "      <td>AT&amp;T INC</td>\n",
       "      <td>VANGUARD COMMUNICATION</td>\n",
       "    </tr>\n",
       "    <tr>\n",
       "      <th>487</th>\n",
       "      <td>MDLZ.US</td>\n",
       "      <td>XOP.US</td>\n",
       "      <td>5</td>\n",
       "      <td>MONDELEZ INTERNATIONAL INC</td>\n",
       "      <td>SPDR S&amp;P OIL &amp; GAS EXPLORATION &amp; PRODUCTION ETF</td>\n",
       "    </tr>\n",
       "    <tr>\n",
       "      <th>518</th>\n",
       "      <td>ERX.US</td>\n",
       "      <td>MDLZ.US</td>\n",
       "      <td>5</td>\n",
       "      <td>DIREXION DAILY</td>\n",
       "      <td>MONDELEZ INTERNATIONAL INC</td>\n",
       "    </tr>\n",
       "    <tr>\n",
       "      <th>546</th>\n",
       "      <td>MDLZ.US</td>\n",
       "      <td>VDE.US</td>\n",
       "      <td>5</td>\n",
       "      <td>MONDELEZ INTERNATIONAL INC</td>\n",
       "      <td>VANGUARD ENERGY ETF</td>\n",
       "    </tr>\n",
       "    <tr>\n",
       "      <th>554</th>\n",
       "      <td>DIG.US</td>\n",
       "      <td>MDLZ.US</td>\n",
       "      <td>5</td>\n",
       "      <td>PROSHARES ULTRA ENERGY</td>\n",
       "      <td>MONDELEZ INTERNATIONAL INC</td>\n",
       "    </tr>\n",
       "    <tr>\n",
       "      <th>574</th>\n",
       "      <td>DJP.US</td>\n",
       "      <td>MDLZ.US</td>\n",
       "      <td>5</td>\n",
       "      <td>IPATH BLOOMBERG COMMODITY INDEX TR ETN</td>\n",
       "      <td>MONDELEZ INTERNATIONAL INC</td>\n",
       "    </tr>\n",
       "    <tr>\n",
       "      <th>595</th>\n",
       "      <td>GSG.US</td>\n",
       "      <td>MDLZ.US</td>\n",
       "      <td>5</td>\n",
       "      <td>ISHARES S&amp;P GSCI COMMODITY-INDEXED TRUST</td>\n",
       "      <td>MONDELEZ INTERNATIONAL INC</td>\n",
       "    </tr>\n",
       "    <tr>\n",
       "      <th>604</th>\n",
       "      <td>FXN.US</td>\n",
       "      <td>MDLZ.US</td>\n",
       "      <td>5</td>\n",
       "      <td>FIRST TRUST</td>\n",
       "      <td>MONDELEZ INTERNATIONAL INC</td>\n",
       "    </tr>\n",
       "    <tr>\n",
       "      <th>50</th>\n",
       "      <td>OIH.US</td>\n",
       "      <td>WBA.US</td>\n",
       "      <td>4</td>\n",
       "      <td>VANECK OIL SERVICES ETF</td>\n",
       "      <td>WALGREENS BOOTS ALLIANCE INC</td>\n",
       "    </tr>\n",
       "    <tr>\n",
       "      <th>129</th>\n",
       "      <td>ERX.US</td>\n",
       "      <td>WBA.US</td>\n",
       "      <td>4</td>\n",
       "      <td>DIREXION DAILY</td>\n",
       "      <td>WALGREENS BOOTS ALLIANCE INC</td>\n",
       "    </tr>\n",
       "  </tbody>\n",
       "</table>\n",
       "</div>"
      ],
      "text/plain": [
       "           s1       s2  n                                     name1  \\\n",
       "1133     T.US   VOX.US  6                                  AT&T INC   \n",
       "487   MDLZ.US   XOP.US  5                MONDELEZ INTERNATIONAL INC   \n",
       "518    ERX.US  MDLZ.US  5                            DIREXION DAILY   \n",
       "546   MDLZ.US   VDE.US  5                MONDELEZ INTERNATIONAL INC   \n",
       "554    DIG.US  MDLZ.US  5                    PROSHARES ULTRA ENERGY   \n",
       "574    DJP.US  MDLZ.US  5    IPATH BLOOMBERG COMMODITY INDEX TR ETN   \n",
       "595    GSG.US  MDLZ.US  5  ISHARES S&P GSCI COMMODITY-INDEXED TRUST   \n",
       "604    FXN.US  MDLZ.US  5                               FIRST TRUST   \n",
       "50     OIH.US   WBA.US  4                   VANECK OIL SERVICES ETF   \n",
       "129    ERX.US   WBA.US  4                            DIREXION DAILY   \n",
       "\n",
       "                                                name2  \n",
       "1133                           VANGUARD COMMUNICATION  \n",
       "487   SPDR S&P OIL & GAS EXPLORATION & PRODUCTION ETF  \n",
       "518                        MONDELEZ INTERNATIONAL INC  \n",
       "546                               VANGUARD ENERGY ETF  \n",
       "554                        MONDELEZ INTERNATIONAL INC  \n",
       "574                        MONDELEZ INTERNATIONAL INC  \n",
       "595                        MONDELEZ INTERNATIONAL INC  \n",
       "604                        MONDELEZ INTERNATIONAL INC  \n",
       "50                       WALGREENS BOOTS ALLIANCE INC  \n",
       "129                      WALGREENS BOOTS ALLIANCE INC  "
      ]
     },
     "execution_count": 33,
     "metadata": {},
     "output_type": "execute_result"
    }
   ],
   "source": [
    "cnt = pd.Series(counter).reset_index()\n",
    "cnt.columns = ['s1', 's2', 'n']\n",
    "cnt['name1'] = cnt.s1.map(tickers)\n",
    "cnt['name2'] = cnt.s2.map(tickers)\n",
    "cnt.nlargest(10, columns='n')"
   ]
  },
  {
   "cell_type": "code",
   "execution_count": 34,
   "metadata": {
    "ExecuteTime": {
     "end_time": "2020-06-19T13:10:53.610381Z",
     "start_time": "2020-06-19T13:10:52.681128Z"
    }
   },
   "outputs": [
    {
     "data": {
      "image/png": "[encoded data removed]",
      "text/plain": [
       "<Figure size 1400x500 with 4 Axes>"
      ]
     },
     "metadata": {},
     "output_type": "display_data"
    }
   ],
   "source": [
    "fig, axes = plt.subplots(ncols=2, figsize=(14, 5))\n",
    "for i in [0, 1]:\n",
    "    s1, s2 = most_common_pairs.at[i, 's1'], most_common_pairs.at[i, 's2']\n",
    "    prices.loc[:, [s1, s2]].rename(columns=tickers).plot(secondary_y=tickers[s2],\n",
    "                                                         ax=axes[i],\n",
    "                                                         rot=0)\n",
    "    axes[i].grid(False)\n",
    "    axes[i].set_xlabel('')\n",
    "\n",
    "sns.despine()\n",
    "fig.tight_layout()"
   ]
  },
  {
   "cell_type": "markdown",
   "metadata": {},
   "source": [
    "## Get Entry and Exit Dates "
   ]
  },
  {
   "cell_type": "markdown",
   "metadata": {},
   "source": [
    "### Smooth prices using Kalman filter"
   ]
  },
  {
   "cell_type": "code",
   "execution_count": 35,
   "metadata": {
    "ExecuteTime": {
     "end_time": "2020-06-19T13:11:14.858886Z",
     "start_time": "2020-06-19T13:11:14.854069Z"
    }
   },
   "outputs": [],
   "source": [
    "def KFSmoother(prices):\n",
    "    \"\"\"Estimate rolling mean\"\"\"\n",
    "    \n",
    "    kf = KalmanFilter(transition_matrices=np.eye(1),\n",
    "                      observation_matrices=np.eye(1),\n",
    "                      initial_state_mean=0,\n",
    "                      initial_state_covariance=1,\n",
    "                      observation_covariance=1,\n",
    "                      transition_covariance=.05)\n",
    "\n",
    "    state_means, _ = kf.filter(prices.values)\n",
    "    return pd.Series(state_means.flatten(),\n",
    "                     index=prices.index)"
   ]
  },
  {
   "cell_type": "code",
   "execution_count": 36,
   "metadata": {
    "ExecuteTime": {
     "end_time": "2020-06-19T13:12:00.810776Z",
     "start_time": "2020-06-19T13:11:14.860508Z"
    }
   },
   "outputs": [],
   "source": [
    "smoothed_prices = prices.apply(KFSmoother)\n",
    "smoothed_prices.to_hdf('tmp.h5', 'smoothed')"
   ]
  },
  {
   "cell_type": "code",
   "execution_count": 37,
   "metadata": {
    "ExecuteTime": {
     "end_time": "2020-06-19T13:12:00.820497Z",
     "start_time": "2020-06-19T13:12:00.812004Z"
    }
   },
   "outputs": [],
   "source": [
    "smoothed_prices = pd.read_hdf('tmp.h5', 'smoothed')"
   ]
  },
  {
   "cell_type": "markdown",
   "metadata": {},
   "source": [
    "### Compute rolling hedge ratio using Kalman Filter"
   ]
  },
  {
   "cell_type": "code",
   "execution_count": 38,
   "metadata": {
    "ExecuteTime": {
     "end_time": "2020-06-19T13:12:00.829378Z",
     "start_time": "2020-06-19T13:12:00.821806Z"
    }
   },
   "outputs": [],
   "source": [
    "def KFHedgeRatio(x, y):\n",
    "    \"\"\"Estimate Hedge Ratio\"\"\"\n",
    "    delta = 1e-3\n",
    "    trans_cov = delta / (1 - delta) * np.eye(2)\n",
    "    obs_mat = np.expand_dims(np.vstack([[x], [np.ones(len(x))]]).T, axis=1)\n",
    "\n",
    "    kf = KalmanFilter(n_dim_obs=1, n_dim_state=2,\n",
    "                      initial_state_mean=[0, 0],\n",
    "                      initial_state_covariance=np.ones((2, 2)),\n",
    "                      transition_matrices=np.eye(2),\n",
    "                      observation_matrices=obs_mat,\n",
    "                      observation_covariance=2,\n",
    "                      transition_covariance=trans_cov)\n",
    "\n",
    "    state_means, _ = kf.filter(y.values)\n",
    "    return -state_means"
   ]
  },
  {
   "cell_type": "markdown",
   "metadata": {},
   "source": [
    "### Estimate mean reversion half life"
   ]
  },
  {
   "cell_type": "code",
   "execution_count": 39,
   "metadata": {
    "ExecuteTime": {
     "end_time": "2020-06-19T13:12:00.840770Z",
     "start_time": "2020-06-19T13:12:00.830166Z"
    }
   },
   "outputs": [],
   "source": [
    "def estimate_half_life(spread):\n",
    "    X = spread.shift().iloc[1:].to_frame().assign(const=1)\n",
    "    y = spread.diff().iloc[1:]\n",
    "    beta = (np.linalg.inv(X.T @ X) @ X.T @ y).iloc[0]\n",
    "    halflife = int(round(-np.log(2) / beta, 0))\n",
    "    return max(halflife, 1)"
   ]
  },
  {
   "cell_type": "markdown",
   "metadata": {},
   "source": [
    "### Compute Spread & Bollinger Bands"
   ]
  },
  {
   "cell_type": "code",
   "execution_count": 40,
   "metadata": {
    "ExecuteTime": {
     "end_time": "2020-06-19T13:12:00.854200Z",
     "start_time": "2020-06-19T13:12:00.841765Z"
    }
   },
   "outputs": [],
   "source": [
    "def get_spread(candidates, prices):\n",
    "    pairs = []\n",
    "    half_lives = []\n",
    "\n",
    "    periods = pd.DatetimeIndex(sorted(candidates.test_end.unique()))\n",
    "    start = time()\n",
    "    for p, test_end in enumerate(periods, 1):\n",
    "        start_iteration = time()\n",
    "\n",
    "        period_candidates = candidates.loc[candidates.test_end == test_end, ['y', 'x']]\n",
    "        trading_start = test_end + pd.DateOffset(days=1)\n",
    "        t = trading_start - pd.DateOffset(years=2)\n",
    "        T = trading_start + pd.DateOffset(months=6) - pd.DateOffset(days=1)\n",
    "        max_window = len(prices.loc[t: test_end].index)\n",
    "        print(test_end.date(), len(period_candidates))\n",
    "        for i, (y, x) in enumerate(zip(period_candidates.y, period_candidates.x), 1):\n",
    "            if i % 1000 == 0:\n",
    "                msg = f'{i:5.0f} | {time() - start_iteration:7.1f} | {time() - start:10.1f}'\n",
    "                print(msg)\n",
    "            pair = prices.loc[t: T, [y, x]]\n",
    "            pair['hedge_ratio'] = KFHedgeRatio(y=KFSmoother(prices.loc[t: T, y]),\n",
    "                                               x=KFSmoother(prices.loc[t: T, x]))[:, 0]\n",
    "            pair['spread'] = pair[y].add(pair[x].mul(pair.hedge_ratio))\n",
    "            half_life = estimate_half_life(pair.spread.loc[t: test_end])                \n",
    "\n",
    "            spread = pair.spread.rolling(window=min(2 * half_life, max_window))\n",
    "            pair['z_score'] = pair.spread.sub(spread.mean()).div(spread.std())\n",
    "            pairs.append(pair.loc[trading_start: T].assign(s1=y, s2=x, period=p, pair=i).drop([x, y], axis=1))\n",
    "\n",
    "            half_lives.append([test_end, y, x, half_life])\n",
    "    return pairs, half_lives"
   ]
  },
  {
   "cell_type": "code",
   "execution_count": 41,
   "metadata": {
    "ExecuteTime": {
     "end_time": "2020-06-19T13:12:00.897593Z",
     "start_time": "2020-06-19T13:12:00.856141Z"
    }
   },
   "outputs": [
    {
     "name": "stdout",
     "output_type": "stream",
     "text": [
      "<class 'pandas.core.frame.DataFrame'>\n",
      "Index: 30978 entries, 8 to 22702\n",
      "Data columns (total 9 columns):\n",
      " #   Column    Non-Null Count  Dtype         \n",
      "---  ------    --------------  -----         \n",
      " 0   test_end  30978 non-null  datetime64[ns]\n",
      " 1   w1        30978 non-null  float64       \n",
      " 2   w2        30978 non-null  float64       \n",
      " 3   joh_sig   30978 non-null  bool          \n",
      " 4   eg        30978 non-null  float64       \n",
      " 5   eg_sig    30978 non-null  bool          \n",
      " 6   coint     30978 non-null  bool          \n",
      " 7   y         30978 non-null  object        \n",
      " 8   x         30978 non-null  object        \n",
      "dtypes: bool(3), datetime64[ns](1), float64(3), object(2)\n",
      "memory usage: 1.7+ MB\n"
     ]
    }
   ],
   "source": [
    "candidates = pd.read_hdf('backtest.h5', 'candidates')\n",
    "candidates.info()"
   ]
  },
  {
   "cell_type": "code",
   "execution_count": 43,
   "metadata": {
    "ExecuteTime": {
     "end_time": "2020-06-19T16:18:38.419560Z",
     "start_time": "2020-06-19T13:12:00.898765Z"
    }
   },
   "outputs": [
    {
     "name": "stdout",
     "output_type": "stream",
     "text": [
      "2016-12-31 3493\n",
      " 1000 |    96.5 |       96.5\n",
      " 2000 |   191.6 |      191.6\n",
      " 3000 |   285.8 |      285.8\n",
      "2017-03-31 1972\n",
      " 1000 |   110.5 |      443.0\n",
      "2017-06-30 4148\n",
      " 1000 |   124.2 |      673.3\n",
      " 2000 |   248.3 |      797.4\n",
      " 3000 |   372.5 |      921.7\n",
      " 4000 |   496.7 |     1045.9\n",
      "2017-09-30 2019\n",
      " 1000 |   138.6 |     1203.1\n",
      " 2000 |   277.4 |     1341.9\n",
      "2017-12-31 2868\n",
      " 1000 |   153.8 |     1498.4\n",
      " 2000 |   308.2 |     1652.8\n",
      "2018-03-31 3481\n",
      " 1000 |   154.2 |     1940.9\n",
      " 2000 |   308.8 |     2095.5\n",
      " 3000 |   464.3 |     2251.0\n",
      "2018-06-30 2319\n",
      " 1000 |   157.1 |     2484.8\n",
      " 2000 |   315.7 |     2643.4\n",
      "2018-09-30 2840\n",
      " 1000 |   153.3 |     2846.1\n",
      " 2000 |   308.6 |     3001.3\n",
      "2018-12-31 2797\n",
      " 1000 |   153.2 |     3284.1\n",
      " 2000 |   308.0 |     3439.0\n",
      "2019-03-31 2506\n",
      " 1000 |   153.6 |     3715.0\n",
      " 2000 |   307.4 |     3868.8\n",
      "2019-06-30 2535\n",
      " 1000 |   154.3 |     4101.1\n",
      " 2000 |   308.8 |     4255.5\n"
     ]
    }
   ],
   "source": [
    "pairs, half_lives = get_spread(candidates, smoothed_prices)"
   ]
  },
  {
   "cell_type": "markdown",
   "metadata": {},
   "source": [
    "### Collect Results"
   ]
  },
  {
   "cell_type": "markdown",
   "metadata": {},
   "source": [
    "#### Half Lives"
   ]
  },
  {
   "cell_type": "code",
   "execution_count": 44,
   "metadata": {
    "ExecuteTime": {
     "end_time": "2020-06-19T16:18:38.449198Z",
     "start_time": "2020-06-19T16:18:38.420580Z"
    }
   },
   "outputs": [
    {
     "name": "stdout",
     "output_type": "stream",
     "text": [
      "<class 'pandas.core.frame.DataFrame'>\n",
      "RangeIndex: 30978 entries, 0 to 30977\n",
      "Data columns (total 4 columns):\n",
      " #   Column     Non-Null Count  Dtype         \n",
      "---  ------     --------------  -----         \n",
      " 0   test_end   30978 non-null  datetime64[ns]\n",
      " 1   s1         30978 non-null  object        \n",
      " 2   s2         30978 non-null  object        \n",
      " 3   half_life  30978 non-null  int64         \n",
      "dtypes: datetime64[ns](1), int64(1), object(2)\n",
      "memory usage: 968.2+ KB\n"
     ]
    }
   ],
   "source": [
    "hl = pd.DataFrame(half_lives, columns=['test_end', 's1', 's2', 'half_life'])\n",
    "hl.info()"
   ]
  },
  {
   "cell_type": "code",
   "execution_count": 45,
   "metadata": {
    "ExecuteTime": {
     "end_time": "2020-06-19T16:18:38.460654Z",
     "start_time": "2020-06-19T16:18:38.450071Z"
    }
   },
   "outputs": [
    {
     "data": {
      "text/plain": [
       "count    30978.000000\n",
       "mean        25.395926\n",
       "std         15.508032\n",
       "min          4.000000\n",
       "25%         20.000000\n",
       "50%         24.000000\n",
       "75%         28.000000\n",
       "max       1071.000000\n",
       "Name: half_life, dtype: float64"
      ]
     },
     "execution_count": 45,
     "metadata": {},
     "output_type": "execute_result"
    }
   ],
   "source": [
    "hl.half_life.describe()"
   ]
  },
  {
   "cell_type": "code",
   "execution_count": 46,
   "metadata": {
    "ExecuteTime": {
     "end_time": "2020-06-19T16:18:38.488001Z",
     "start_time": "2020-06-19T16:18:38.461724Z"
    }
   },
   "outputs": [],
   "source": [
    "hl.to_hdf('backtest.h5', 'half_lives')"
   ]
  },
  {
   "cell_type": "markdown",
   "metadata": {},
   "source": [
    "#### Pair Data"
   ]
  },
  {
   "cell_type": "code",
   "execution_count": 48,
   "metadata": {
    "ExecuteTime": {
     "end_time": "2020-06-19T16:18:42.640734Z",
     "start_time": "2020-06-19T16:18:38.489283Z"
    }
   },
   "outputs": [
    {
     "name": "stdout",
     "output_type": "stream",
     "text": [
      "<class 'pandas.core.frame.DataFrame'>\n",
      "DatetimeIndex: 3892612 entries, 2017-01-03 to 2019-12-31\n",
      "Data columns (total 7 columns):\n",
      " #   Column       Non-Null Count    Dtype  \n",
      "---  ------       --------------    -----  \n",
      " 0   hedge_ratio  3892612 non-null  float64\n",
      " 1   spread       3892612 non-null  float64\n",
      " 2   z_score      3892612 non-null  float64\n",
      " 3   s1           3892612 non-null  object \n",
      " 4   s2           3892612 non-null  object \n",
      " 5   period       3892612 non-null  int64  \n",
      " 6   pair         3892612 non-null  int64  \n",
      "dtypes: float64(3), int64(2), object(2)\n",
      "memory usage: 237.6+ MB\n"
     ]
    }
   ],
   "source": [
    "pair_data = pd.concat(pairs)\n",
    "pair_data.info(show_counts=True)"
   ]
  },
  {
   "cell_type": "code",
   "execution_count": 49,
   "metadata": {
    "ExecuteTime": {
     "end_time": "2020-06-19T16:18:43.195991Z",
     "start_time": "2020-06-19T16:18:42.641767Z"
    }
   },
   "outputs": [],
   "source": [
    "pair_data.to_hdf('backtest.h5', 'pair_data')"
   ]
  },
  {
   "cell_type": "code",
   "execution_count": 50,
   "metadata": {
    "ExecuteTime": {
     "end_time": "2020-06-19T16:18:43.656592Z",
     "start_time": "2020-06-19T16:18:43.196963Z"
    }
   },
   "outputs": [],
   "source": [
    "pair_data = pd.read_hdf('backtest.h5', 'pair_data')"
   ]
  },
  {
   "cell_type": "markdown",
   "metadata": {},
   "source": [
    "### Identify Long & Short Entry and Exit Dates"
   ]
  },
  {
   "cell_type": "code",
   "execution_count": 55,
   "metadata": {
    "ExecuteTime": {
     "end_time": "2020-06-19T16:18:43.665632Z",
     "start_time": "2020-06-19T16:18:43.657454Z"
    }
   },
   "outputs": [],
   "source": [
    "def get_trades(data):\n",
    "    pair_trades = []\n",
    "    for i, ((period, s1, s2), pair) in enumerate(data.groupby(['period', 's1', 's2']), 1):\n",
    "        if i % 100 == 0:\n",
    "            print(i)\n",
    "\n",
    "        first3m = pair.first('3M').index\n",
    "        last3m = pair.last('3M').index\n",
    "\n",
    "        entry = pair.z_score.abs() > 2\n",
    "        entry = ((entry.shift() != entry)\n",
    "                 .mul(np.sign(pair.z_score))\n",
    "                 .fillna(0)\n",
    "                 .astype(int)\n",
    "                 .sub(2))\n",
    "\n",
    "        exit = (np.sign(pair.z_score.shift().fillna(method='bfill'))\n",
    "                != np.sign(pair.z_score)).astype(int) - 1\n",
    "\n",
    "        trades = (pd.concat([entry[entry != -2], exit[exit == 0]])\n",
    "                  .to_frame('side')\n",
    "                  .sort_values(['date', 'side'])\n",
    "                  .squeeze())\n",
    "        if not isinstance(trades, pd.Series):\n",
    "            continue\n",
    "        try:\n",
    "            trades.loc[trades < 0] += 2\n",
    "        except:\n",
    "            print(type(trades))\n",
    "            print(trades)\n",
    "            print(pair.z_score.describe())\n",
    "            break\n",
    "\n",
    "        trades = trades[trades.abs().shift() != trades.abs()]\n",
    "        window = trades.loc[first3m.min():first3m.max()]\n",
    "        extra = trades.loc[last3m.min():last3m.max()]\n",
    "        n = len(trades)\n",
    "\n",
    "        if window.iloc[0] == 0:\n",
    "            if n > 1:\n",
    "                print('shift')\n",
    "                window = window.iloc[1:]\n",
    "        if window.iloc[-1] != 0:\n",
    "            extra_exits = extra[extra == 0].head(1)\n",
    "            if extra_exits.empty:\n",
    "                continue\n",
    "            else:\n",
    "                window = pd.concat([window, extra_exits])\n",
    "\n",
    "        trades = pair[['s1', 's2', 'hedge_ratio', 'period', 'pair']].join(window.to_frame('side'), how='right')\n",
    "        trades.loc[trades.side == 0, 'hedge_ratio'] = np.nan\n",
    "        trades.hedge_ratio = trades.hedge_ratio.ffill()\n",
    "        pair_trades.append(trades)\n",
    "    return pair_trades"
   ]
  },
  {
   "cell_type": "code",
   "execution_count": 56,
   "metadata": {
    "ExecuteTime": {
     "end_time": "2020-06-19T16:23:57.066089Z",
     "start_time": "2020-06-19T16:18:43.666577Z"
    }
   },
   "outputs": [
    {
     "name": "stdout",
     "output_type": "stream",
     "text": [
      "100\n",
      "200\n",
      "300\n",
      "400\n",
      "500\n",
      "600\n",
      "700\n",
      "800\n",
      "900\n",
      "1000\n",
      "1100\n",
      "1200\n",
      "1300\n",
      "1400\n",
      "1500\n",
      "1600\n",
      "1700\n",
      "1800\n",
      "1900\n",
      "2000\n",
      "2100\n",
      "2200\n",
      "2300\n",
      "2400\n",
      "2500\n",
      "2600\n",
      "2700\n",
      "2800\n",
      "2900\n",
      "3000\n",
      "3100\n",
      "3200\n",
      "3300\n",
      "3400\n",
      "3500\n",
      "3600\n",
      "3700\n",
      "3800\n",
      "3900\n",
      "4000\n",
      "4100\n",
      "4200\n",
      "4300\n",
      "4400\n",
      "4500\n",
      "4600\n",
      "4700\n",
      "4800\n",
      "4900\n",
      "5000\n",
      "5100\n",
      "5200\n",
      "5300\n",
      "5400\n",
      "5500\n",
      "5600\n",
      "5700\n",
      "5800\n",
      "5900\n",
      "6000\n",
      "6100\n",
      "6200\n",
      "6300\n",
      "6400\n",
      "6500\n",
      "6600\n",
      "6700\n",
      "6800\n",
      "6900\n",
      "7000\n",
      "7100\n",
      "7200\n",
      "7300\n",
      "7400\n",
      "7500\n",
      "7600\n",
      "7700\n",
      "7800\n",
      "7900\n",
      "8000\n",
      "8100\n",
      "8200\n",
      "8300\n",
      "8400\n",
      "8500\n",
      "8600\n",
      "8700\n",
      "8800\n",
      "8900\n",
      "9000\n",
      "9100\n",
      "9200\n",
      "9300\n",
      "9400\n",
      "9500\n",
      "9600\n",
      "9700\n",
      "9800\n",
      "9900\n",
      "10000\n",
      "10100\n",
      "10200\n",
      "10300\n",
      "10400\n",
      "10500\n",
      "10600\n",
      "10700\n",
      "10800\n",
      "10900\n",
      "11000\n",
      "11100\n",
      "11200\n",
      "11300\n",
      "11400\n",
      "11500\n",
      "11600\n",
      "11700\n",
      "11800\n",
      "11900\n",
      "12000\n",
      "12100\n",
      "12200\n",
      "12300\n",
      "12400\n",
      "12500\n",
      "12600\n",
      "12700\n",
      "12800\n",
      "12900\n",
      "13000\n",
      "13100\n",
      "13200\n",
      "13300\n",
      "13400\n",
      "13500\n",
      "13600\n",
      "13700\n",
      "13800\n",
      "13900\n",
      "14000\n",
      "14100\n",
      "14200\n",
      "14300\n",
      "14400\n",
      "14500\n",
      "14600\n",
      "14700\n",
      "14800\n",
      "14900\n",
      "15000\n",
      "15100\n",
      "15200\n",
      "15300\n",
      "15400\n",
      "15500\n",
      "15600\n",
      "15700\n",
      "15800\n",
      "15900\n",
      "16000\n",
      "16100\n",
      "16200\n",
      "16300\n",
      "16400\n",
      "16500\n",
      "16600\n",
      "16700\n",
      "16800\n",
      "16900\n",
      "17000\n",
      "17100\n",
      "17200\n",
      "17300\n",
      "17400\n",
      "17500\n",
      "17600\n",
      "17700\n",
      "17800\n",
      "17900\n",
      "18000\n",
      "18100\n",
      "18200\n",
      "18300\n",
      "18400\n",
      "18500\n",
      "18600\n",
      "18700\n",
      "18800\n",
      "18900\n",
      "19000\n",
      "19100\n",
      "19200\n",
      "19300\n",
      "19400\n",
      "19500\n",
      "19600\n",
      "19700\n",
      "19800\n",
      "19900\n",
      "20000\n",
      "20100\n",
      "20200\n",
      "20300\n",
      "20400\n",
      "20500\n",
      "20600\n",
      "20700\n",
      "20800\n",
      "20900\n",
      "21000\n",
      "21100\n",
      "21200\n",
      "21300\n",
      "21400\n",
      "21500\n",
      "21600\n",
      "21700\n",
      "21800\n",
      "21900\n",
      "22000\n",
      "22100\n",
      "22200\n",
      "22300\n",
      "22400\n",
      "22500\n",
      "22600\n",
      "22700\n",
      "22800\n",
      "22900\n",
      "23000\n",
      "23100\n",
      "23200\n",
      "23300\n",
      "23400\n",
      "23500\n",
      "23600\n",
      "23700\n",
      "23800\n",
      "23900\n",
      "24000\n",
      "24100\n",
      "24200\n",
      "24300\n",
      "24400\n",
      "24500\n",
      "24600\n",
      "24700\n",
      "24800\n",
      "24900\n",
      "25000\n",
      "25100\n",
      "25200\n",
      "25300\n",
      "25400\n",
      "25500\n",
      "25600\n",
      "25700\n",
      "25800\n",
      "25900\n",
      "26000\n",
      "26100\n",
      "26200\n",
      "26300\n",
      "26400\n",
      "26500\n",
      "26600\n",
      "26700\n",
      "26800\n",
      "26900\n",
      "27000\n",
      "27100\n",
      "27200\n",
      "27300\n",
      "27400\n",
      "27500\n",
      "27600\n",
      "27700\n",
      "27800\n",
      "27900\n",
      "28000\n",
      "28100\n",
      "28200\n",
      "28300\n",
      "28400\n",
      "28500\n",
      "28600\n",
      "28700\n",
      "28800\n",
      "28900\n",
      "29000\n",
      "29100\n",
      "29200\n",
      "29300\n",
      "29400\n",
      "29500\n",
      "29600\n",
      "29700\n",
      "29800\n",
      "29900\n",
      "30000\n",
      "30100\n",
      "30200\n",
      "30300\n",
      "30400\n",
      "30500\n",
      "30600\n",
      "30700\n",
      "30800\n",
      "30900\n"
     ]
    }
   ],
   "source": [
    "pair_trades = get_trades(pair_data)"
   ]
  },
  {
   "cell_type": "code",
   "execution_count": 57,
   "metadata": {
    "ExecuteTime": {
     "end_time": "2020-06-19T16:24:00.948377Z",
     "start_time": "2020-06-19T16:23:57.066963Z"
    },
    "scrolled": true
   },
   "outputs": [
    {
     "name": "stdout",
     "output_type": "stream",
     "text": [
      "<class 'pandas.core.frame.DataFrame'>\n",
      "DatetimeIndex: 124100 entries, 2017-01-03 to 2019-10-04\n",
      "Data columns (total 6 columns):\n",
      " #   Column       Non-Null Count   Dtype  \n",
      "---  ------       --------------   -----  \n",
      " 0   s1           124100 non-null  object \n",
      " 1   s2           124100 non-null  object \n",
      " 2   hedge_ratio  124100 non-null  float64\n",
      " 3   period       124100 non-null  int64  \n",
      " 4   pair         124100 non-null  int64  \n",
      " 5   side         124100 non-null  int64  \n",
      "dtypes: float64(1), int64(3), object(2)\n",
      "memory usage: 6.6+ MB\n"
     ]
    }
   ],
   "source": [
    "pair_trade_data = pd.concat(pair_trades)\n",
    "pair_trade_data.info()"
   ]
  },
  {
   "cell_type": "code",
   "execution_count": 58,
   "metadata": {
    "ExecuteTime": {
     "end_time": "2020-06-19T16:24:00.959508Z",
     "start_time": "2020-06-19T16:24:00.949698Z"
    }
   },
   "outputs": [
    {
     "data": {
      "text/html": [
       "<div>\n",
       "<style scoped>\n",
       "    .dataframe tbody tr th:only-of-type {\n",
       "        vertical-align: middle;\n",
       "    }\n",
       "\n",
       "    .dataframe tbody tr th {\n",
       "        vertical-align: top;\n",
       "    }\n",
       "\n",
       "    .dataframe thead th {\n",
       "        text-align: right;\n",
       "    }\n",
       "</style>\n",
       "<table border=\"1\" class=\"dataframe\">\n",
       "  <thead>\n",
       "    <tr style=\"text-align: right;\">\n",
       "      <th></th>\n",
       "      <th>s1</th>\n",
       "      <th>s2</th>\n",
       "      <th>hedge_ratio</th>\n",
       "      <th>period</th>\n",
       "      <th>pair</th>\n",
       "      <th>side</th>\n",
       "    </tr>\n",
       "    <tr>\n",
       "      <th>date</th>\n",
       "      <th></th>\n",
       "      <th></th>\n",
       "      <th></th>\n",
       "      <th></th>\n",
       "      <th></th>\n",
       "      <th></th>\n",
       "    </tr>\n",
       "  </thead>\n",
       "  <tbody>\n",
       "    <tr>\n",
       "      <th>2017-01-03</th>\n",
       "      <td>AA.US</td>\n",
       "      <td>DEM.US</td>\n",
       "      <td>-1.037475</td>\n",
       "      <td>1</td>\n",
       "      <td>2174</td>\n",
       "      <td>-1</td>\n",
       "    </tr>\n",
       "    <tr>\n",
       "      <th>2017-01-13</th>\n",
       "      <td>AA.US</td>\n",
       "      <td>DEM.US</td>\n",
       "      <td>-1.037475</td>\n",
       "      <td>1</td>\n",
       "      <td>2174</td>\n",
       "      <td>0</td>\n",
       "    </tr>\n",
       "    <tr>\n",
       "      <th>2017-01-03</th>\n",
       "      <td>AA.US</td>\n",
       "      <td>DIG.US</td>\n",
       "      <td>-0.600162</td>\n",
       "      <td>1</td>\n",
       "      <td>1911</td>\n",
       "      <td>-1</td>\n",
       "    </tr>\n",
       "    <tr>\n",
       "      <th>2017-01-10</th>\n",
       "      <td>AA.US</td>\n",
       "      <td>DIG.US</td>\n",
       "      <td>-0.600162</td>\n",
       "      <td>1</td>\n",
       "      <td>1911</td>\n",
       "      <td>0</td>\n",
       "    </tr>\n",
       "    <tr>\n",
       "      <th>2017-01-03</th>\n",
       "      <td>AA.US</td>\n",
       "      <td>DWX.US</td>\n",
       "      <td>-1.036419</td>\n",
       "      <td>1</td>\n",
       "      <td>2996</td>\n",
       "      <td>-1</td>\n",
       "    </tr>\n",
       "  </tbody>\n",
       "</table>\n",
       "</div>"
      ],
      "text/plain": [
       "               s1      s2  hedge_ratio  period  pair  side\n",
       "date                                                      \n",
       "2017-01-03  AA.US  DEM.US    -1.037475       1  2174    -1\n",
       "2017-01-13  AA.US  DEM.US    -1.037475       1  2174     0\n",
       "2017-01-03  AA.US  DIG.US    -0.600162       1  1911    -1\n",
       "2017-01-10  AA.US  DIG.US    -0.600162       1  1911     0\n",
       "2017-01-03  AA.US  DWX.US    -1.036419       1  2996    -1"
      ]
     },
     "execution_count": 58,
     "metadata": {},
     "output_type": "execute_result"
    }
   ],
   "source": [
    "pair_trade_data.head()"
   ]
  },
  {
   "cell_type": "code",
   "execution_count": 59,
   "metadata": {
    "ExecuteTime": {
     "end_time": "2020-06-19T16:34:09.171268Z",
     "start_time": "2020-06-19T16:34:08.884111Z"
    }
   },
   "outputs": [
    {
     "data": {
      "image/png": "[encoded data removed]",
      "text/plain": [
       "<Figure size 1400x400 with 1 Axes>"
      ]
     },
     "metadata": {},
     "output_type": "display_data"
    }
   ],
   "source": [
    "trades = pair_trade_data['side'].copy()\n",
    "trades.loc[trades != 0] = 1\n",
    "trades.loc[trades == 0] = -1\n",
    "trades.sort_index().cumsum().plot(figsize=(14, 4))\n",
    "sns.despine()"
   ]
  },
  {
   "cell_type": "code",
   "execution_count": 60,
   "metadata": {
    "ExecuteTime": {
     "end_time": "2020-06-19T16:24:01.303828Z",
     "start_time": "2020-06-19T16:24:01.269001Z"
    }
   },
   "outputs": [],
   "source": [
    "pair_trade_data.to_hdf('backtest.h5', 'pair_trades')"
   ]
  }
 ],
 "metadata": {
  "kernelspec": {
   "display_name": "Python 3 (ipykernel)",
   "language": "python",
   "name": "python3"
  },
  "language_info": {
   "codemirror_mode": {
    "name": "ipython",
    "version": 3
   },
   "file_extension": ".py",
   "mimetype": "text/x-python",
   "name": "python",
   "nbconvert_exporter": "python",
   "pygments_lexer": "ipython3",
   "version": "3.12.9"
  },
  "toc": {
   "base_numbering": 1,
   "nav_menu": {},
   "number_sections": true,
   "sideBar": true,
   "skip_h1_title": true,
   "title_cell": "Table of Contents",
   "title_sidebar": "Contents",
   "toc_cell": false,
   "toc_position": {
    "height": "calc(100% - 180px)",
    "left": "10px",
    "top": "150px",
    "width": "341px"
   },
   "toc_section_display": true,
   "toc_window_display": true
  }
 },
 "nbformat": 4,
 "nbformat_minor": 4
}
