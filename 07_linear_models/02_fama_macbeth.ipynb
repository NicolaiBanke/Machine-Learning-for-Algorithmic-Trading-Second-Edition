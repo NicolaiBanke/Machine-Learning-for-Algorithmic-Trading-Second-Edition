{
 "cells": [
  {
   "cell_type": "markdown",
   "metadata": {},
   "source": [
    "# How to build a linear factor model"
   ]
  },
  {
   "cell_type": "markdown",
   "metadata": {},
   "source": [
    "Algorithmic trading strategies use linear factor models to quantify the relationship between the return of an asset and the sources of risk that represent the main drivers of these returns. Each factor risk carries a premium, and the total asset return can be expected to correspond to a weighted average of these risk premia."
   ]
  },
  {
   "cell_type": "markdown",
   "metadata": {},
   "source": [
    "There are several practical applications of factor models across the portfolio management process from construction and asset selection to risk management and performance evaluation. The importance of factor models continues to grow as common risk factors are now tradeable:\n",
    "\n",
    "- A summary of the returns of many assets by a much smaller number of factors reduces the amount of data required to estimate the covariance matrix when optimizing a portfolio\n",
    "- An estimate of the exposure of an asset or a portfolio to these factors allows for the management of the resultant risk, for instance by entering suitable hedges when risk factors are themselves traded\n",
    "- A factor model also permits the assessment of the incremental signal content of new alpha factors\n",
    "- A factor model can also help assess whether a manager's performance relative to a benchmark is indeed due to skill in selecting assets and timing the market, or if instead, the performance can be explained by portfolio tilts towards known return drivers that can today be replicated as low-cost, passively managed funds without incurring active management fees"
   ]
  },
  {
   "cell_type": "markdown",
   "metadata": {},
   "source": [
    "## Imports & Settings"
   ]
  },
  {
   "cell_type": "code",
   "execution_count": 1,
   "metadata": {
    "ExecuteTime": {
     "end_time": "2021-04-15T19:55:07.984117Z",
     "start_time": "2021-04-15T19:55:07.982285Z"
    }
   },
   "outputs": [],
   "source": [
    "import warnings\n",
    "warnings.filterwarnings('ignore')"
   ]
  },
  {
   "cell_type": "code",
   "execution_count": 2,
   "metadata": {
    "ExecuteTime": {
     "end_time": "2021-04-15T19:55:09.073976Z",
     "start_time": "2021-04-15T19:55:08.102748Z"
    }
   },
   "outputs": [],
   "source": [
    "import pandas as pd\n",
    "import numpy as np\n",
    "\n",
    "from statsmodels.api import OLS, add_constant\n",
    "import pandas_datareader.data as web\n",
    "\n",
    "from linearmodels.asset_pricing import LinearFactorModel\n",
    "\n",
    "import matplotlib.pyplot as plt\n",
    "import seaborn as sns"
   ]
  },
  {
   "cell_type": "code",
   "execution_count": 3,
   "metadata": {
    "ExecuteTime": {
     "end_time": "2021-04-15T19:55:09.077317Z",
     "start_time": "2021-04-15T19:55:09.075045Z"
    }
   },
   "outputs": [],
   "source": [
    "sns.set_style('whitegrid')"
   ]
  },
  {
   "cell_type": "markdown",
   "metadata": {},
   "source": [
    "## Get Data"
   ]
  },
  {
   "cell_type": "markdown",
   "metadata": {},
   "source": [
    "Fama and French make updated risk factor and research portfolio data available through their [website](http://mba.tuck.dartmouth.edu/pages/faculty/ken.french/data_library.html), and you can use the `pandas_datareader` package to obtain the data."
   ]
  },
  {
   "cell_type": "markdown",
   "metadata": {},
   "source": [
    "### Risk Factors"
   ]
  },
  {
   "cell_type": "markdown",
   "metadata": {},
   "source": [
    "In particular, we will be using the five Fama—French factors that result from sorting stocks first into three size groups and then into two for each of the remaining three firm-specific factors. \n",
    "\n",
    "Hence, the factors involve three sets of value-weighted portfolios formed as 3 x 2 sorts on size and book-to-market, size and operating profitability, and size and investment. The risk factor values computed as the average returns of the portfolios (PF) as outlined in the following table:"
   ]
  },
  {
   "cell_type": "markdown",
   "metadata": {},
   "source": [
    "| Label | Name                          | Description                                                                                                                                                                               |\n",
    "|-------|-------------------------------|-------------------------------------------------------------------------------------------------------------------------------------------------------------------------------------------|\n",
    "| SMB   | Small Minus Big               | Average return on the nine small stock portfolios minus the average return on the nine big stock portfolios                                                                               |\n",
    "| HML   | High Minus Low                | Average return on the two value portfolios minus the average return on the two growth portfolios                                                                                          |\n",
    "| RMW   | Robust minus Weak             | Average return on the two robust operating profitability portfolios minus the average return on the two weak operating profitability portfolios                                           |\n",
    "| CMA   | Conservative Minus Aggressive | Average return on the two conservative investment portfolios minus the average return on the two aggressive investment portfolios                                                         |\n",
    "| Rm-Rf | Excess return on the market   | Value-weight return of all firms incorporated in the US and listed on the NYSE, AMEX, or NASDAQ at the beginning of month t with 'good' data for t minus the one-month Treasury bill rate |"
   ]
  },
  {
   "cell_type": "markdown",
   "metadata": {},
   "source": [
    "The Fama-French 5 factors are based on the 6 value-weight portfolios formed on size and book-to-market, the 6 value-weight portfolios formed on size and operating profitability, and the 6 value-weight portfolios formed on size and investment."
   ]
  },
  {
   "cell_type": "markdown",
   "metadata": {},
   "source": [
    "We will use returns at a monthly frequency that we obtain for the period 2010 – 2017 as follows:"
   ]
  },
  {
   "cell_type": "code",
   "execution_count": 21,
   "metadata": {
    "ExecuteTime": {
     "end_time": "2021-04-15T19:55:13.367412Z",
     "start_time": "2021-04-15T19:55:13.065455Z"
    }
   },
   "outputs": [
    {
     "name": "stdout",
     "output_type": "stream",
     "text": [
      "<class 'pandas.core.frame.DataFrame'>\n",
      "PeriodIndex: 96 entries, 2010-01 to 2017-12\n",
      "Freq: M\n",
      "Data columns (total 6 columns):\n",
      " #   Column  Non-Null Count  Dtype  \n",
      "---  ------  --------------  -----  \n",
      " 0   Mkt-RF  96 non-null     float64\n",
      " 1   SMB     96 non-null     float64\n",
      " 2   HML     96 non-null     float64\n",
      " 3   RMW     96 non-null     float64\n",
      " 4   CMA     96 non-null     float64\n",
      " 5   RF      96 non-null     float64\n",
      "dtypes: float64(6)\n",
      "memory usage: 5.2 KB\n"
     ]
    }
   ],
   "source": [
    "ff_factor = 'F-F_Research_Data_5_Factors_2x3'\n",
    "ff_factor_data = web.DataReader(ff_factor, 'famafrench', start='2010', end='2017-12')[0]\n",
    "ff_factor_data.info()"
   ]
  },
  {
   "cell_type": "code",
   "execution_count": 22,
   "metadata": {
    "ExecuteTime": {
     "end_time": "2021-04-15T19:55:13.386698Z",
     "start_time": "2021-04-15T19:55:13.368623Z"
    }
   },
   "outputs": [
    {
     "data": {
      "text/html": [
       "<div>\n",
       "<style scoped>\n",
       "    .dataframe tbody tr th:only-of-type {\n",
       "        vertical-align: middle;\n",
       "    }\n",
       "\n",
       "    .dataframe tbody tr th {\n",
       "        vertical-align: top;\n",
       "    }\n",
       "\n",
       "    .dataframe thead th {\n",
       "        text-align: right;\n",
       "    }\n",
       "</style>\n",
       "<table border=\"1\" class=\"dataframe\">\n",
       "  <thead>\n",
       "    <tr style=\"text-align: right;\">\n",
       "      <th></th>\n",
       "      <th>Mkt-RF</th>\n",
       "      <th>SMB</th>\n",
       "      <th>HML</th>\n",
       "      <th>RMW</th>\n",
       "      <th>CMA</th>\n",
       "      <th>RF</th>\n",
       "    </tr>\n",
       "  </thead>\n",
       "  <tbody>\n",
       "    <tr>\n",
       "      <th>count</th>\n",
       "      <td>96.000000</td>\n",
       "      <td>96.000000</td>\n",
       "      <td>96.000000</td>\n",
       "      <td>96.000000</td>\n",
       "      <td>96.000000</td>\n",
       "      <td>96.000000</td>\n",
       "    </tr>\n",
       "    <tr>\n",
       "      <th>mean</th>\n",
       "      <td>1.158646</td>\n",
       "      <td>0.060625</td>\n",
       "      <td>-0.050521</td>\n",
       "      <td>0.129167</td>\n",
       "      <td>0.047083</td>\n",
       "      <td>0.012604</td>\n",
       "    </tr>\n",
       "    <tr>\n",
       "      <th>std</th>\n",
       "      <td>3.580013</td>\n",
       "      <td>2.301792</td>\n",
       "      <td>2.202624</td>\n",
       "      <td>1.581728</td>\n",
       "      <td>1.412141</td>\n",
       "      <td>0.022583</td>\n",
       "    </tr>\n",
       "    <tr>\n",
       "      <th>min</th>\n",
       "      <td>-7.890000</td>\n",
       "      <td>-4.550000</td>\n",
       "      <td>-4.700000</td>\n",
       "      <td>-3.870000</td>\n",
       "      <td>-3.260000</td>\n",
       "      <td>0.000000</td>\n",
       "    </tr>\n",
       "    <tr>\n",
       "      <th>25%</th>\n",
       "      <td>-0.917500</td>\n",
       "      <td>-1.695000</td>\n",
       "      <td>-1.662500</td>\n",
       "      <td>-1.092500</td>\n",
       "      <td>-0.960000</td>\n",
       "      <td>0.000000</td>\n",
       "    </tr>\n",
       "    <tr>\n",
       "      <th>50%</th>\n",
       "      <td>1.235000</td>\n",
       "      <td>0.205000</td>\n",
       "      <td>-0.310000</td>\n",
       "      <td>0.195000</td>\n",
       "      <td>-0.005000</td>\n",
       "      <td>0.000000</td>\n",
       "    </tr>\n",
       "    <tr>\n",
       "      <th>75%</th>\n",
       "      <td>3.197500</td>\n",
       "      <td>1.582500</td>\n",
       "      <td>1.205000</td>\n",
       "      <td>1.197500</td>\n",
       "      <td>0.922500</td>\n",
       "      <td>0.010000</td>\n",
       "    </tr>\n",
       "    <tr>\n",
       "      <th>max</th>\n",
       "      <td>11.350000</td>\n",
       "      <td>7.070000</td>\n",
       "      <td>8.210000</td>\n",
       "      <td>3.470000</td>\n",
       "      <td>3.690000</td>\n",
       "      <td>0.090000</td>\n",
       "    </tr>\n",
       "  </tbody>\n",
       "</table>\n",
       "</div>"
      ],
      "text/plain": [
       "          Mkt-RF        SMB        HML        RMW        CMA         RF\n",
       "count  96.000000  96.000000  96.000000  96.000000  96.000000  96.000000\n",
       "mean    1.158646   0.060625  -0.050521   0.129167   0.047083   0.012604\n",
       "std     3.580013   2.301792   2.202624   1.581728   1.412141   0.022583\n",
       "min    -7.890000  -4.550000  -4.700000  -3.870000  -3.260000   0.000000\n",
       "25%    -0.917500  -1.695000  -1.662500  -1.092500  -0.960000   0.000000\n",
       "50%     1.235000   0.205000  -0.310000   0.195000  -0.005000   0.000000\n",
       "75%     3.197500   1.582500   1.205000   1.197500   0.922500   0.010000\n",
       "max    11.350000   7.070000   8.210000   3.470000   3.690000   0.090000"
      ]
     },
     "execution_count": 22,
     "metadata": {},
     "output_type": "execute_result"
    }
   ],
   "source": [
    "ff_factor_data.describe()"
   ]
  },
  {
   "cell_type": "markdown",
   "metadata": {},
   "source": [
    "### Portfolios"
   ]
  },
  {
   "cell_type": "markdown",
   "metadata": {},
   "source": [
    "Fama and French also make available numerous portfolios that we can illustrate the estimation of the factor exposures, as well as the value of the risk premia available in the market for a given time period. We will use a panel of the 17 industry portfolios at a monthly frequency. \n",
    "\n",
    "We will subtract the risk-free rate from the returns because the factor model works with excess returns:"
   ]
  },
  {
   "cell_type": "code",
   "execution_count": 23,
   "metadata": {
    "ExecuteTime": {
     "end_time": "2021-04-15T19:55:14.483710Z",
     "start_time": "2021-04-15T19:55:13.388307Z"
    }
   },
   "outputs": [
    {
     "name": "stdout",
     "output_type": "stream",
     "text": [
      "<class 'pandas.core.frame.DataFrame'>\n",
      "PeriodIndex: 96 entries, 2010-01 to 2017-12\n",
      "Freq: M\n",
      "Data columns (total 17 columns):\n",
      " #   Column  Non-Null Count  Dtype  \n",
      "---  ------  --------------  -----  \n",
      " 0   Food    96 non-null     float64\n",
      " 1   Mines   96 non-null     float64\n",
      " 2   Oil     96 non-null     float64\n",
      " 3   Clths   96 non-null     float64\n",
      " 4   Durbl   96 non-null     float64\n",
      " 5   Chems   96 non-null     float64\n",
      " 6   Cnsum   96 non-null     float64\n",
      " 7   Cnstr   96 non-null     float64\n",
      " 8   Steel   96 non-null     float64\n",
      " 9   FabPr   96 non-null     float64\n",
      " 10  Machn   96 non-null     float64\n",
      " 11  Cars    96 non-null     float64\n",
      " 12  Trans   96 non-null     float64\n",
      " 13  Utils   96 non-null     float64\n",
      " 14  Rtail   96 non-null     float64\n",
      " 15  Finan   96 non-null     float64\n",
      " 16  Other   96 non-null     float64\n",
      "dtypes: float64(17)\n",
      "memory usage: 13.5 KB\n"
     ]
    }
   ],
   "source": [
    "ff_portfolio = '17_Industry_Portfolios'\n",
    "ff_portfolio_data = web.DataReader(ff_portfolio, 'famafrench', start='2010', end='2017-12')[0]\n",
    "ff_portfolio_data = ff_portfolio_data.sub(ff_factor_data.RF, axis=0)\n",
    "ff_portfolio_data.info()"
   ]
  },
  {
   "cell_type": "code",
   "execution_count": 24,
   "metadata": {
    "ExecuteTime": {
     "end_time": "2021-04-15T19:55:14.519355Z",
     "start_time": "2021-04-15T19:55:14.484749Z"
    }
   },
   "outputs": [
    {
     "data": {
      "text/html": [
       "<div>\n",
       "<style scoped>\n",
       "    .dataframe tbody tr th:only-of-type {\n",
       "        vertical-align: middle;\n",
       "    }\n",
       "\n",
       "    .dataframe tbody tr th {\n",
       "        vertical-align: top;\n",
       "    }\n",
       "\n",
       "    .dataframe thead th {\n",
       "        text-align: right;\n",
       "    }\n",
       "</style>\n",
       "<table border=\"1\" class=\"dataframe\">\n",
       "  <thead>\n",
       "    <tr style=\"text-align: right;\">\n",
       "      <th></th>\n",
       "      <th>Food</th>\n",
       "      <th>Mines</th>\n",
       "      <th>Oil</th>\n",
       "      <th>Clths</th>\n",
       "      <th>Durbl</th>\n",
       "      <th>Chems</th>\n",
       "      <th>Cnsum</th>\n",
       "      <th>Cnstr</th>\n",
       "      <th>Steel</th>\n",
       "      <th>FabPr</th>\n",
       "      <th>Machn</th>\n",
       "      <th>Cars</th>\n",
       "      <th>Trans</th>\n",
       "      <th>Utils</th>\n",
       "      <th>Rtail</th>\n",
       "      <th>Finan</th>\n",
       "      <th>Other</th>\n",
       "    </tr>\n",
       "  </thead>\n",
       "  <tbody>\n",
       "    <tr>\n",
       "      <th>count</th>\n",
       "      <td>96.000000</td>\n",
       "      <td>96.000000</td>\n",
       "      <td>96.000000</td>\n",
       "      <td>96.000000</td>\n",
       "      <td>96.000000</td>\n",
       "      <td>96.000000</td>\n",
       "      <td>96.000000</td>\n",
       "      <td>96.000000</td>\n",
       "      <td>96.000000</td>\n",
       "      <td>96.000000</td>\n",
       "      <td>96.000000</td>\n",
       "      <td>96.000000</td>\n",
       "      <td>96.000000</td>\n",
       "      <td>96.000000</td>\n",
       "      <td>96.000000</td>\n",
       "      <td>96.000000</td>\n",
       "      <td>96.000000</td>\n",
       "    </tr>\n",
       "    <tr>\n",
       "      <th>mean</th>\n",
       "      <td>1.035417</td>\n",
       "      <td>0.210000</td>\n",
       "      <td>0.594896</td>\n",
       "      <td>1.383646</td>\n",
       "      <td>1.102917</td>\n",
       "      <td>1.327604</td>\n",
       "      <td>1.189271</td>\n",
       "      <td>1.734167</td>\n",
       "      <td>0.535521</td>\n",
       "      <td>1.350208</td>\n",
       "      <td>1.221667</td>\n",
       "      <td>1.282292</td>\n",
       "      <td>1.469792</td>\n",
       "      <td>0.894271</td>\n",
       "      <td>1.240208</td>\n",
       "      <td>1.247292</td>\n",
       "      <td>1.285417</td>\n",
       "    </tr>\n",
       "    <tr>\n",
       "      <th>std</th>\n",
       "      <td>2.805824</td>\n",
       "      <td>7.942856</td>\n",
       "      <td>5.504306</td>\n",
       "      <td>5.007997</td>\n",
       "      <td>5.179621</td>\n",
       "      <td>5.585949</td>\n",
       "      <td>3.134775</td>\n",
       "      <td>5.249994</td>\n",
       "      <td>7.424776</td>\n",
       "      <td>4.713899</td>\n",
       "      <td>4.801264</td>\n",
       "      <td>5.757512</td>\n",
       "      <td>4.167801</td>\n",
       "      <td>3.232446</td>\n",
       "      <td>3.514401</td>\n",
       "      <td>4.868399</td>\n",
       "      <td>3.672500</td>\n",
       "    </tr>\n",
       "    <tr>\n",
       "      <th>min</th>\n",
       "      <td>-5.160000</td>\n",
       "      <td>-24.510000</td>\n",
       "      <td>-11.760000</td>\n",
       "      <td>-9.770000</td>\n",
       "      <td>-13.170000</td>\n",
       "      <td>-16.770000</td>\n",
       "      <td>-7.120000</td>\n",
       "      <td>-14.140000</td>\n",
       "      <td>-20.570000</td>\n",
       "      <td>-12.180000</td>\n",
       "      <td>-9.110000</td>\n",
       "      <td>-11.770000</td>\n",
       "      <td>-8.660000</td>\n",
       "      <td>-7.110000</td>\n",
       "      <td>-9.200000</td>\n",
       "      <td>-11.290000</td>\n",
       "      <td>-8.040000</td>\n",
       "    </tr>\n",
       "    <tr>\n",
       "      <th>25%</th>\n",
       "      <td>-0.797500</td>\n",
       "      <td>-5.810000</td>\n",
       "      <td>-3.167500</td>\n",
       "      <td>-1.572500</td>\n",
       "      <td>-2.272500</td>\n",
       "      <td>-1.337500</td>\n",
       "      <td>-0.885000</td>\n",
       "      <td>-2.435000</td>\n",
       "      <td>-4.385000</td>\n",
       "      <td>-1.450000</td>\n",
       "      <td>-2.010000</td>\n",
       "      <td>-1.255000</td>\n",
       "      <td>-0.860000</td>\n",
       "      <td>-0.735000</td>\n",
       "      <td>-0.845000</td>\n",
       "      <td>-1.530000</td>\n",
       "      <td>-1.147500</td>\n",
       "    </tr>\n",
       "    <tr>\n",
       "      <th>50%</th>\n",
       "      <td>0.940000</td>\n",
       "      <td>-0.480000</td>\n",
       "      <td>0.990000</td>\n",
       "      <td>1.155000</td>\n",
       "      <td>1.100000</td>\n",
       "      <td>1.445000</td>\n",
       "      <td>1.465000</td>\n",
       "      <td>2.160000</td>\n",
       "      <td>0.655000</td>\n",
       "      <td>1.500000</td>\n",
       "      <td>1.510000</td>\n",
       "      <td>0.620000</td>\n",
       "      <td>1.520000</td>\n",
       "      <td>1.275000</td>\n",
       "      <td>0.925000</td>\n",
       "      <td>1.790000</td>\n",
       "      <td>1.570000</td>\n",
       "    </tr>\n",
       "    <tr>\n",
       "      <th>75%</th>\n",
       "      <td>3.210000</td>\n",
       "      <td>5.905000</td>\n",
       "      <td>4.195000</td>\n",
       "      <td>3.770000</td>\n",
       "      <td>4.577500</td>\n",
       "      <td>4.437500</td>\n",
       "      <td>3.285000</td>\n",
       "      <td>5.555000</td>\n",
       "      <td>4.270000</td>\n",
       "      <td>3.845000</td>\n",
       "      <td>4.590000</td>\n",
       "      <td>4.815000</td>\n",
       "      <td>4.342500</td>\n",
       "      <td>2.930000</td>\n",
       "      <td>3.365000</td>\n",
       "      <td>4.147500</td>\n",
       "      <td>3.425000</td>\n",
       "    </tr>\n",
       "    <tr>\n",
       "      <th>max</th>\n",
       "      <td>6.680000</td>\n",
       "      <td>22.030000</td>\n",
       "      <td>16.030000</td>\n",
       "      <td>17.320000</td>\n",
       "      <td>16.580000</td>\n",
       "      <td>18.360000</td>\n",
       "      <td>8.280000</td>\n",
       "      <td>15.580000</td>\n",
       "      <td>21.620000</td>\n",
       "      <td>17.870000</td>\n",
       "      <td>14.740000</td>\n",
       "      <td>21.040000</td>\n",
       "      <td>13.030000</td>\n",
       "      <td>7.840000</td>\n",
       "      <td>12.460000</td>\n",
       "      <td>13.500000</td>\n",
       "      <td>10.430000</td>\n",
       "    </tr>\n",
       "  </tbody>\n",
       "</table>\n",
       "</div>"
      ],
      "text/plain": [
       "           Food       Mines      Oil        Clths      Durbl      Chems  \\\n",
       "count  96.000000  96.000000  96.000000  96.000000  96.000000  96.000000   \n",
       "mean    1.035417   0.210000   0.594896   1.383646   1.102917   1.327604   \n",
       "std     2.805824   7.942856   5.504306   5.007997   5.179621   5.585949   \n",
       "min    -5.160000 -24.510000 -11.760000  -9.770000 -13.170000 -16.770000   \n",
       "25%    -0.797500  -5.810000  -3.167500  -1.572500  -2.272500  -1.337500   \n",
       "50%     0.940000  -0.480000   0.990000   1.155000   1.100000   1.445000   \n",
       "75%     3.210000   5.905000   4.195000   3.770000   4.577500   4.437500   \n",
       "max     6.680000  22.030000  16.030000  17.320000  16.580000  18.360000   \n",
       "\n",
       "           Cnsum      Cnstr      Steel      FabPr      Machn      Cars   \\\n",
       "count  96.000000  96.000000  96.000000  96.000000  96.000000  96.000000   \n",
       "mean    1.189271   1.734167   0.535521   1.350208   1.221667   1.282292   \n",
       "std     3.134775   5.249994   7.424776   4.713899   4.801264   5.757512   \n",
       "min    -7.120000 -14.140000 -20.570000 -12.180000  -9.110000 -11.770000   \n",
       "25%    -0.885000  -2.435000  -4.385000  -1.450000  -2.010000  -1.255000   \n",
       "50%     1.465000   2.160000   0.655000   1.500000   1.510000   0.620000   \n",
       "75%     3.285000   5.555000   4.270000   3.845000   4.590000   4.815000   \n",
       "max     8.280000  15.580000  21.620000  17.870000  14.740000  21.040000   \n",
       "\n",
       "           Trans      Utils      Rtail      Finan      Other  \n",
       "count  96.000000  96.000000  96.000000  96.000000  96.000000  \n",
       "mean    1.469792   0.894271   1.240208   1.247292   1.285417  \n",
       "std     4.167801   3.232446   3.514401   4.868399   3.672500  \n",
       "min    -8.660000  -7.110000  -9.200000 -11.290000  -8.040000  \n",
       "25%    -0.860000  -0.735000  -0.845000  -1.530000  -1.147500  \n",
       "50%     1.520000   1.275000   0.925000   1.790000   1.570000  \n",
       "75%     4.342500   2.930000   3.365000   4.147500   3.425000  \n",
       "max    13.030000   7.840000  12.460000  13.500000  10.430000  "
      ]
     },
     "execution_count": 24,
     "metadata": {},
     "output_type": "execute_result"
    }
   ],
   "source": [
    "ff_portfolio_data.describe()"
   ]
  },
  {
   "cell_type": "markdown",
   "metadata": {},
   "source": [
    "### Equity Data"
   ]
  },
  {
   "cell_type": "code",
   "execution_count": 25,
   "metadata": {
    "ExecuteTime": {
     "end_time": "2021-04-15T19:55:20.200618Z",
     "start_time": "2021-04-15T19:55:14.520935Z"
    }
   },
   "outputs": [],
   "source": [
    "with pd.HDFStore('/media/n1c0/SanDiskSSD/assets.h5') as store:\n",
    "    prices = store['/quandl/wiki/prices'].adj_close.unstack().loc['2010':'2017']\n",
    "    equities = store['/us_equities/stocks'].drop_duplicates()"
   ]
  },
  {
   "cell_type": "code",
   "execution_count": 26,
   "metadata": {
    "ExecuteTime": {
     "end_time": "2021-04-15T19:55:20.245270Z",
     "start_time": "2021-04-15T19:55:20.201602Z"
    }
   },
   "outputs": [],
   "source": [
    "sectors = equities.filter(prices.columns, axis=0).sector.to_dict()\n",
    "prices = prices.filter(sectors.keys()).dropna(how='all', axis=1)"
   ]
  },
  {
   "cell_type": "code",
   "execution_count": 27,
   "metadata": {
    "ExecuteTime": {
     "end_time": "2021-04-15T19:55:20.330305Z",
     "start_time": "2021-04-15T19:55:20.246605Z"
    }
   },
   "outputs": [
    {
     "name": "stdout",
     "output_type": "stream",
     "text": [
      "<class 'pandas.core.frame.DataFrame'>\n",
      "PeriodIndex: 95 entries, 2010-02 to 2017-12\n",
      "Freq: M\n",
      "Columns: 1986 entries, A to ZUMZ\n",
      "dtypes: float64(1986)\n",
      "memory usage: 1.4 MB\n"
     ]
    }
   ],
   "source": [
    "returns = prices.resample('M').last().pct_change().mul(100).to_period('M')\n",
    "returns = returns.dropna(how='all').dropna(axis=1)\n",
    "returns.info()"
   ]
  },
  {
   "cell_type": "markdown",
   "metadata": {},
   "source": [
    "### Align data"
   ]
  },
  {
   "cell_type": "code",
   "execution_count": 28,
   "metadata": {
    "ExecuteTime": {
     "end_time": "2021-04-15T19:55:20.336370Z",
     "start_time": "2021-04-15T19:55:20.332866Z"
    }
   },
   "outputs": [],
   "source": [
    "ff_factor_data = ff_factor_data.loc[returns.index]\n",
    "ff_portfolio_data = ff_portfolio_data.loc[returns.index]"
   ]
  },
  {
   "cell_type": "code",
   "execution_count": 29,
   "metadata": {
    "ExecuteTime": {
     "end_time": "2021-04-15T19:55:20.370190Z",
     "start_time": "2021-04-15T19:55:20.338297Z"
    }
   },
   "outputs": [
    {
     "data": {
      "text/html": [
       "<div>\n",
       "<style scoped>\n",
       "    .dataframe tbody tr th:only-of-type {\n",
       "        vertical-align: middle;\n",
       "    }\n",
       "\n",
       "    .dataframe tbody tr th {\n",
       "        vertical-align: top;\n",
       "    }\n",
       "\n",
       "    .dataframe thead th {\n",
       "        text-align: right;\n",
       "    }\n",
       "</style>\n",
       "<table border=\"1\" class=\"dataframe\">\n",
       "  <thead>\n",
       "    <tr style=\"text-align: right;\">\n",
       "      <th></th>\n",
       "      <th>Mkt-RF</th>\n",
       "      <th>SMB</th>\n",
       "      <th>HML</th>\n",
       "      <th>RMW</th>\n",
       "      <th>CMA</th>\n",
       "      <th>RF</th>\n",
       "    </tr>\n",
       "  </thead>\n",
       "  <tbody>\n",
       "    <tr>\n",
       "      <th>count</th>\n",
       "      <td>95.000000</td>\n",
       "      <td>95.000000</td>\n",
       "      <td>95.000000</td>\n",
       "      <td>95.000000</td>\n",
       "      <td>95.000000</td>\n",
       "      <td>95.000000</td>\n",
       "    </tr>\n",
       "    <tr>\n",
       "      <th>mean</th>\n",
       "      <td>1.206211</td>\n",
       "      <td>0.057684</td>\n",
       "      <td>-0.055579</td>\n",
       "      <td>0.143895</td>\n",
       "      <td>0.042737</td>\n",
       "      <td>0.012737</td>\n",
       "    </tr>\n",
       "    <tr>\n",
       "      <th>std</th>\n",
       "      <td>3.568381</td>\n",
       "      <td>2.313822</td>\n",
       "      <td>2.213748</td>\n",
       "      <td>1.583487</td>\n",
       "      <td>1.418987</td>\n",
       "      <td>0.022665</td>\n",
       "    </tr>\n",
       "    <tr>\n",
       "      <th>min</th>\n",
       "      <td>-7.890000</td>\n",
       "      <td>-4.550000</td>\n",
       "      <td>-4.700000</td>\n",
       "      <td>-3.870000</td>\n",
       "      <td>-3.260000</td>\n",
       "      <td>0.000000</td>\n",
       "    </tr>\n",
       "    <tr>\n",
       "      <th>25%</th>\n",
       "      <td>-0.565000</td>\n",
       "      <td>-1.700000</td>\n",
       "      <td>-1.665000</td>\n",
       "      <td>-0.925000</td>\n",
       "      <td>-0.970000</td>\n",
       "      <td>0.000000</td>\n",
       "    </tr>\n",
       "    <tr>\n",
       "      <th>50%</th>\n",
       "      <td>1.290000</td>\n",
       "      <td>0.160000</td>\n",
       "      <td>-0.310000</td>\n",
       "      <td>0.240000</td>\n",
       "      <td>-0.010000</td>\n",
       "      <td>0.000000</td>\n",
       "    </tr>\n",
       "    <tr>\n",
       "      <th>75%</th>\n",
       "      <td>3.265000</td>\n",
       "      <td>1.605000</td>\n",
       "      <td>1.220000</td>\n",
       "      <td>1.205000</td>\n",
       "      <td>0.935000</td>\n",
       "      <td>0.010000</td>\n",
       "    </tr>\n",
       "    <tr>\n",
       "      <th>max</th>\n",
       "      <td>11.350000</td>\n",
       "      <td>7.070000</td>\n",
       "      <td>8.210000</td>\n",
       "      <td>3.470000</td>\n",
       "      <td>3.690000</td>\n",
       "      <td>0.090000</td>\n",
       "    </tr>\n",
       "  </tbody>\n",
       "</table>\n",
       "</div>"
      ],
      "text/plain": [
       "          Mkt-RF        SMB        HML        RMW        CMA         RF\n",
       "count  95.000000  95.000000  95.000000  95.000000  95.000000  95.000000\n",
       "mean    1.206211   0.057684  -0.055579   0.143895   0.042737   0.012737\n",
       "std     3.568381   2.313822   2.213748   1.583487   1.418987   0.022665\n",
       "min    -7.890000  -4.550000  -4.700000  -3.870000  -3.260000   0.000000\n",
       "25%    -0.565000  -1.700000  -1.665000  -0.925000  -0.970000   0.000000\n",
       "50%     1.290000   0.160000  -0.310000   0.240000  -0.010000   0.000000\n",
       "75%     3.265000   1.605000   1.220000   1.205000   0.935000   0.010000\n",
       "max    11.350000   7.070000   8.210000   3.470000   3.690000   0.090000"
      ]
     },
     "execution_count": 29,
     "metadata": {},
     "output_type": "execute_result"
    }
   ],
   "source": [
    "ff_factor_data.describe()"
   ]
  },
  {
   "cell_type": "markdown",
   "metadata": {},
   "source": [
    "### Compute excess Returns"
   ]
  },
  {
   "cell_type": "code",
   "execution_count": 30,
   "metadata": {
    "ExecuteTime": {
     "end_time": "2021-04-15T19:55:20.493870Z",
     "start_time": "2021-04-15T19:55:20.371460Z"
    }
   },
   "outputs": [
    {
     "name": "stdout",
     "output_type": "stream",
     "text": [
      "<class 'pandas.core.frame.DataFrame'>\n",
      "PeriodIndex: 95 entries, 2010-02 to 2017-12\n",
      "Freq: M\n",
      "Columns: 1986 entries, A to ZUMZ\n",
      "dtypes: float64(1986)\n",
      "memory usage: 1.4 MB\n"
     ]
    }
   ],
   "source": [
    "excess_returns = returns.sub(ff_factor_data.RF, axis=0)\n",
    "excess_returns.info()"
   ]
  },
  {
   "cell_type": "code",
   "execution_count": 31,
   "metadata": {
    "ExecuteTime": {
     "end_time": "2021-04-15T19:55:20.510527Z",
     "start_time": "2021-04-15T19:55:20.495111Z"
    }
   },
   "outputs": [],
   "source": [
    "excess_returns = excess_returns.clip(lower=np.percentile(excess_returns, 1),\n",
    "                                     upper=np.percentile(excess_returns, 99))"
   ]
  },
  {
   "cell_type": "markdown",
   "metadata": {},
   "source": [
    "## Fama-Macbeth Regression"
   ]
  },
  {
   "cell_type": "markdown",
   "metadata": {},
   "source": [
    "Given data on risk factors and portfolio returns, it is useful to estimate the portfolio's exposure, that is, how much the risk factors drive portfolio returns, as well as how much the exposure to a given factor is worth, that is, the what market's risk factor premium is. The risk premium then permits to estimate the return for any portfolio provided the factor exposure is known or can be assumed."
   ]
  },
  {
   "cell_type": "code",
   "execution_count": 32,
   "metadata": {
    "ExecuteTime": {
     "end_time": "2021-04-15T19:55:20.520870Z",
     "start_time": "2021-04-15T19:55:20.511704Z"
    }
   },
   "outputs": [
    {
     "name": "stdout",
     "output_type": "stream",
     "text": [
      "<class 'pandas.core.frame.DataFrame'>\n",
      "PeriodIndex: 95 entries, 2010-02 to 2017-12\n",
      "Freq: M\n",
      "Data columns (total 17 columns):\n",
      " #   Column  Non-Null Count  Dtype  \n",
      "---  ------  --------------  -----  \n",
      " 0   Food    95 non-null     float64\n",
      " 1   Mines   95 non-null     float64\n",
      " 2   Oil     95 non-null     float64\n",
      " 3   Clths   95 non-null     float64\n",
      " 4   Durbl   95 non-null     float64\n",
      " 5   Chems   95 non-null     float64\n",
      " 6   Cnsum   95 non-null     float64\n",
      " 7   Cnstr   95 non-null     float64\n",
      " 8   Steel   95 non-null     float64\n",
      " 9   FabPr   95 non-null     float64\n",
      " 10  Machn   95 non-null     float64\n",
      " 11  Cars    95 non-null     float64\n",
      " 12  Trans   95 non-null     float64\n",
      " 13  Utils   95 non-null     float64\n",
      " 14  Rtail   95 non-null     float64\n",
      " 15  Finan   95 non-null     float64\n",
      " 16  Other   95 non-null     float64\n",
      "dtypes: float64(17)\n",
      "memory usage: 13.4 KB\n"
     ]
    }
   ],
   "source": [
    "ff_portfolio_data.info()"
   ]
  },
  {
   "cell_type": "code",
   "execution_count": 33,
   "metadata": {
    "ExecuteTime": {
     "end_time": "2021-04-15T19:55:20.538124Z",
     "start_time": "2021-04-15T19:55:20.521998Z"
    }
   },
   "outputs": [
    {
     "name": "stdout",
     "output_type": "stream",
     "text": [
      "<class 'pandas.core.frame.DataFrame'>\n",
      "PeriodIndex: 95 entries, 2010-02 to 2017-12\n",
      "Freq: M\n",
      "Data columns (total 5 columns):\n",
      " #   Column  Non-Null Count  Dtype  \n",
      "---  ------  --------------  -----  \n",
      " 0   Mkt-RF  95 non-null     float64\n",
      " 1   SMB     95 non-null     float64\n",
      " 2   HML     95 non-null     float64\n",
      " 3   RMW     95 non-null     float64\n",
      " 4   CMA     95 non-null     float64\n",
      "dtypes: float64(5)\n",
      "memory usage: 4.5 KB\n"
     ]
    }
   ],
   "source": [
    "ff_factor_data = ff_factor_data.drop('RF', axis=1)\n",
    "ff_factor_data.info()"
   ]
  },
  {
   "cell_type": "markdown",
   "metadata": {},
   "source": [
    "To address the inference problem caused by the correlation of the residuals, Fama and MacBeth proposed a two-step methodology for a cross-sectional regression of returns on factors. The two-stage Fama—Macbeth regression is designed to estimate the premium rewarded for the exposure to a particular risk factor by the market. The two stages consist of:\n",
    "\n",
    "- First stage: N time-series regression, one for each asset or portfolio, of its excess returns on the factors to estimate the factor loadings.\n",
    "\n",
    "- Second stage: T cross-sectional regression, one for each time period, to estimate the risk premium.\n",
    "\n",
    "See corresponding section in Chapter 7 of [Machine Learning for Trading](https://www.amazon.com/Hands-Machine-Learning-Algorithmic-Trading-ebook/dp/B07JLFH7C5/ref=sr_1_2?ie=UTF8&qid=1548455634&sr=8-2&keywords=machine+learning+algorithmic+trading) for details."
   ]
  },
  {
   "cell_type": "markdown",
   "metadata": {},
   "source": [
    "Now we can compute the factor risk premia as the time average and get t-statistic to assess their individual significance, using the assumption that the risk premia estimates are independent over time.\n",
    "\n",
    "If we had a very large and representative data sample on traded risk factors we could use the sample mean as a risk premium estimate. However, we typically do not have a sufficiently long history to and the margin of error around the sample mean could be quite large. \n",
    "\n",
    "The Fama—Macbeth methodology leverages the covariance of the factors with other assets to determine the factor premia. The second moment of asset returns is easier to estimate than the first moment, and obtaining more granular data improves estimation considerably, which is not true of mean estimation."
   ]
  },
  {
   "cell_type": "markdown",
   "metadata": {},
   "source": [
    "### Step 1: Factor Exposures"
   ]
  },
  {
   "cell_type": "markdown",
   "metadata": {},
   "source": [
    "We can implement the first stage to obtain the 17 factor loading estimates as follows:"
   ]
  },
  {
   "cell_type": "code",
   "execution_count": 36,
   "metadata": {
    "ExecuteTime": {
     "end_time": "2021-04-15T19:55:20.643488Z",
     "start_time": "2021-04-15T19:55:20.539304Z"
    }
   },
   "outputs": [],
   "source": [
    "betas = []\n",
    "for industry in ff_portfolio_data:\n",
    "    step1 = OLS(endog=ff_portfolio_data.loc[ff_factor_data.index, industry], \n",
    "                exog=add_constant(ff_factor_data)).fit()\n",
    "    betas.append(step1.params.drop('const'))"
   ]
  },
  {
   "cell_type": "code",
   "execution_count": 38,
   "metadata": {
    "ExecuteTime": {
     "end_time": "2021-04-15T19:55:20.658189Z",
     "start_time": "2021-04-15T19:55:20.646568Z"
    }
   },
   "outputs": [
    {
     "name": "stdout",
     "output_type": "stream",
     "text": [
      "<class 'pandas.core.frame.DataFrame'>\n",
      "Index: 17 entries, Food  to Other\n",
      "Data columns (total 5 columns):\n",
      " #   Column  Non-Null Count  Dtype  \n",
      "---  ------  --------------  -----  \n",
      " 0   Mkt-RF  17 non-null     float64\n",
      " 1   SMB     17 non-null     float64\n",
      " 2   HML     17 non-null     float64\n",
      " 3   RMW     17 non-null     float64\n",
      " 4   CMA     17 non-null     float64\n",
      "dtypes: float64(5)\n",
      "memory usage: 1.3+ KB\n"
     ]
    }
   ],
   "source": [
    "betas = pd.DataFrame(betas, \n",
    "                     columns=ff_factor_data.columns, \n",
    "                     index=ff_portfolio_data.columns)\n",
    "betas.info()"
   ]
  },
  {
   "cell_type": "markdown",
   "metadata": {},
   "source": [
    "### Step 2: Risk Premia"
   ]
  },
  {
   "cell_type": "markdown",
   "metadata": {},
   "source": [
    "For the second stage, we run 96 regressions of the period returns for the cross section of portfolios on the factor loadings"
   ]
  },
  {
   "cell_type": "code",
   "execution_count": 39,
   "metadata": {
    "ExecuteTime": {
     "end_time": "2021-04-15T19:55:20.759883Z",
     "start_time": "2021-04-15T19:55:20.659165Z"
    }
   },
   "outputs": [],
   "source": [
    "lambdas = []\n",
    "for period in ff_portfolio_data.index:\n",
    "    step2 = OLS(endog=ff_portfolio_data.loc[period, betas.index], \n",
    "                exog=betas).fit()\n",
    "    lambdas.append(step2.params)"
   ]
  },
  {
   "cell_type": "code",
   "execution_count": 40,
   "metadata": {
    "ExecuteTime": {
     "end_time": "2021-04-15T19:55:20.780931Z",
     "start_time": "2021-04-15T19:55:20.760976Z"
    }
   },
   "outputs": [
    {
     "name": "stdout",
     "output_type": "stream",
     "text": [
      "<class 'pandas.core.frame.DataFrame'>\n",
      "PeriodIndex: 95 entries, 2010-02 to 2017-12\n",
      "Freq: M\n",
      "Data columns (total 5 columns):\n",
      " #   Column  Non-Null Count  Dtype  \n",
      "---  ------  --------------  -----  \n",
      " 0   Mkt-RF  95 non-null     float64\n",
      " 1   SMB     95 non-null     float64\n",
      " 2   HML     95 non-null     float64\n",
      " 3   RMW     95 non-null     float64\n",
      " 4   CMA     95 non-null     float64\n",
      "dtypes: float64(5)\n",
      "memory usage: 6.5 KB\n"
     ]
    }
   ],
   "source": [
    "lambdas = pd.DataFrame(lambdas, \n",
    "                       index=ff_portfolio_data.index,\n",
    "                       columns=betas.columns.tolist())\n",
    "lambdas.info()"
   ]
  },
  {
   "cell_type": "code",
   "execution_count": 43,
   "metadata": {
    "ExecuteTime": {
     "end_time": "2021-04-15T19:55:20.902217Z",
     "start_time": "2021-04-15T19:55:20.781976Z"
    }
   },
   "outputs": [
    {
     "data": {
      "image/png": "[encoded data removed]",
      "text/plain": [
       "<Figure size 1200x400 with 1 Axes>"
      ]
     },
     "metadata": {},
     "output_type": "display_data"
    }
   ],
   "source": [
    "lambdas.mean().sort_values().plot.barh(figsize=(12, 4))\n",
    "sns.despine()\n",
    "plt.tight_layout();"
   ]
  },
  {
   "cell_type": "code",
   "execution_count": 44,
   "metadata": {
    "ExecuteTime": {
     "end_time": "2021-04-15T19:55:20.908357Z",
     "start_time": "2021-04-15T19:55:20.903193Z"
    }
   },
   "outputs": [
    {
     "data": {
      "text/plain": [
       "Mkt-RF    0.343490\n",
       "SMB      -0.002505\n",
       "HML      -0.267467\n",
       "RMW      -0.091698\n",
       "CMA      -0.145693\n",
       "dtype: float64"
      ]
     },
     "metadata": {},
     "output_type": "display_data"
    }
   ],
   "source": [
    "t = lambdas.mean().div(lambdas.std())\n",
    "display(t)"
   ]
  },
  {
   "cell_type": "markdown",
   "metadata": {},
   "source": [
    "#### Results"
   ]
  },
  {
   "cell_type": "code",
   "execution_count": 45,
   "metadata": {
    "ExecuteTime": {
     "end_time": "2021-04-15T19:55:21.278124Z",
     "start_time": "2021-04-15T19:55:20.909336Z"
    }
   },
   "outputs": [
    {
     "data": {
      "image/png": "[encoded data removed]",
      "text/plain": [
       "<Figure size 1400x500 with 2 Axes>"
      ]
     },
     "metadata": {},
     "output_type": "display_data"
    }
   ],
   "source": [
    "window = 24  # months\n",
    "ax1 = plt.subplot2grid((1, 3), (0, 0))\n",
    "ax2 = plt.subplot2grid((1, 3), (0, 1), colspan=2)\n",
    "lambdas.mean().sort_values().plot.barh(ax=ax1)\n",
    "lambdas.rolling(window).mean().dropna().plot(lw=1,\n",
    "                                             figsize=(14, 5),\n",
    "                                             sharey=True,\n",
    "                                             ax=ax2)\n",
    "sns.despine()\n",
    "plt.tight_layout()"
   ]
  },
  {
   "cell_type": "code",
   "execution_count": 46,
   "metadata": {
    "ExecuteTime": {
     "end_time": "2021-04-15T19:55:21.839217Z",
     "start_time": "2021-04-15T19:55:21.279210Z"
    }
   },
   "outputs": [
    {
     "data": {
      "image/png": "[encoded data removed]",
      "text/plain": [
       "<Figure size 1400x700 with 5 Axes>"
      ]
     },
     "metadata": {},
     "output_type": "display_data"
    }
   ],
   "source": [
    "window = 24  # months\n",
    "lambdas.rolling(window).mean().dropna().plot(lw=2,\n",
    "                                             figsize=(14, 7),\n",
    "                                             subplots=True,\n",
    "                                             sharey=True)\n",
    "sns.despine()\n",
    "plt.tight_layout()"
   ]
  },
  {
   "cell_type": "markdown",
   "metadata": {},
   "source": [
    "## Fama-Macbeth with the LinearModels library"
   ]
  },
  {
   "cell_type": "markdown",
   "metadata": {},
   "source": [
    "The linear_models library extends statsmodels with various models for panel data and also implements the two-stage Fama—MacBeth procedure:"
   ]
  },
  {
   "cell_type": "code",
   "execution_count": 47,
   "metadata": {
    "ExecuteTime": {
     "end_time": "2021-04-15T19:55:21.859424Z",
     "start_time": "2021-04-15T19:55:21.840019Z"
    }
   },
   "outputs": [
    {
     "name": "stdout",
     "output_type": "stream",
     "text": [
      "                      LinearFactorModel Estimation Summary                      \n",
      "================================================================================\n",
      "No. Test Portfolios:                 17   R-squared:                      0.6903\n",
      "No. Factors:                          5   J-statistic:                    15.816\n",
      "No. Observations:                    95   P-value                         0.1998\n",
      "Date:                  Mon, Apr 21 2025   Distribution:                 chi2(12)\n",
      "Time:                          16:27:52                                         \n",
      "Cov. Estimator:                  robust                                         \n",
      "                                                                                \n",
      "                            Risk Premia Estimates                             \n",
      "==============================================================================\n",
      "            Parameter  Std. Err.     T-stat    P-value    Lower CI    Upper CI\n",
      "------------------------------------------------------------------------------\n",
      "Mkt-RF         1.2323     0.4068     3.0291     0.0025      0.4350      2.0297\n",
      "SMB           -0.0098     0.8672    -0.0113     0.9910     -1.7096      1.6900\n",
      "HML           -1.0867     0.6225    -1.7457     0.0809     -2.3069      0.1334\n",
      "RMW           -0.2775     0.8332    -0.3330     0.7391     -1.9106      1.3556\n",
      "CMA           -0.5104     0.5700    -0.8953     0.3706     -1.6276      0.6069\n",
      "==============================================================================\n",
      "\n",
      "Covariance estimator:\n",
      "HeteroskedasticCovariance\n",
      "See full_summary for complete results\n"
     ]
    }
   ],
   "source": [
    "mod = LinearFactorModel(portfolios=ff_portfolio_data, \n",
    "                        factors=ff_factor_data)\n",
    "res = mod.fit()\n",
    "print(res)"
   ]
  },
  {
   "cell_type": "code",
   "execution_count": 48,
   "metadata": {
    "ExecuteTime": {
     "end_time": "2021-04-15T19:55:21.921756Z",
     "start_time": "2021-04-15T19:55:21.861590Z"
    }
   },
   "outputs": [
    {
     "name": "stdout",
     "output_type": "stream",
     "text": [
      "                      LinearFactorModel Estimation Summary                      \n",
      "================================================================================\n",
      "No. Test Portfolios:                 17   R-squared:                      0.6903\n",
      "No. Factors:                          5   J-statistic:                    15.816\n",
      "No. Observations:                    95   P-value                         0.1998\n",
      "Date:                  Mon, Apr 21 2025   Distribution:                 chi2(12)\n",
      "Time:                          16:27:52                                         \n",
      "Cov. Estimator:                  robust                                         \n",
      "                                                                                \n",
      "                            Risk Premia Estimates                             \n",
      "==============================================================================\n",
      "            Parameter  Std. Err.     T-stat    P-value    Lower CI    Upper CI\n",
      "------------------------------------------------------------------------------\n",
      "Mkt-RF         1.2323     0.4068     3.0291     0.0025      0.4350      2.0297\n",
      "SMB           -0.0098     0.8672    -0.0113     0.9910     -1.7096      1.6900\n",
      "HML           -1.0867     0.6225    -1.7457     0.0809     -2.3069      0.1334\n",
      "RMW           -0.2775     0.8332    -0.3330     0.7391     -1.9106      1.3556\n",
      "CMA           -0.5104     0.5700    -0.8953     0.3706     -1.6276      0.6069\n",
      "\n",
      "\n",
      "                              Food  Coefficients                              \n",
      "==============================================================================\n",
      "            Parameter  Std. Err.     T-stat    P-value    Lower CI    Upper CI\n",
      "------------------------------------------------------------------------------\n",
      "alpha          0.1618     0.2559     0.6323     0.5272     -0.3398      0.6634\n",
      "Mkt-RF         0.6880     0.0473     14.538     0.0000      0.5952      0.7807\n",
      "SMB           -0.3109     0.1155    -2.6920     0.0071     -0.5372     -0.0845\n",
      "HML           -0.3505     0.1372    -2.5551     0.0106     -0.6194     -0.0816\n",
      "RMW            0.3112     0.1283     2.4261     0.0153      0.0598      0.5625\n",
      "CMA            0.4670     0.1604     2.9114     0.0036      0.1526      0.7813\n",
      "\n",
      "\n",
      "                              Mines Coefficients                              \n",
      "==============================================================================\n",
      "alpha         -0.6799     0.5263    -1.2919     0.1964     -1.7113      0.3516\n",
      "Mkt-RF         1.3121     0.1971     6.6566     0.0000      0.9257      1.6984\n",
      "SMB            0.1908     0.3383     0.5639     0.5728     -0.4723      0.8538\n",
      "HML            0.2177     0.3330     0.6538     0.5132     -0.4349      0.8703\n",
      "RMW            0.2302     0.4417     0.5212     0.6022     -0.6354      1.0958\n",
      "CMA            0.5610     0.5574     1.0064     0.3142     -0.5316      1.6536\n",
      "\n",
      "\n",
      "                              Oil   Coefficients                              \n",
      "==============================================================================\n",
      "alpha          0.2476     0.3492     0.7092     0.4782     -0.4367      0.9319\n",
      "Mkt-RF         1.0357     0.1016     10.195     0.0000      0.8366      1.2348\n",
      "SMB            0.1701     0.1899     0.8954     0.3706     -0.2022      0.5423\n",
      "HML            0.6542     0.2037     3.2121     0.0013      0.2550      1.0534\n",
      "RMW           -0.0062     0.2328    -0.0265     0.9788     -0.4625      0.4501\n",
      "CMA            0.3163     0.2821     1.1215     0.2621     -0.2365      0.8692\n",
      "\n",
      "\n",
      "                              Clths Coefficients                              \n",
      "==============================================================================\n",
      "alpha          0.2443     0.3454     0.7072     0.4794     -0.4327      0.9214\n",
      "Mkt-RF         0.9791     0.1207     8.1121     0.0000      0.7425      1.2156\n",
      "SMB            0.3772     0.1950     1.9343     0.0531     -0.0050      0.7594\n",
      "HML           -0.1544     0.2083    -0.7410     0.4587     -0.5627      0.2540\n",
      "RMW            0.6441     0.2640     2.4394     0.0147      0.1266      1.1616\n",
      "CMA           -0.0005     0.3076    -0.0015     0.9988     -0.6033      0.6024\n",
      "\n",
      "\n",
      "                              Durbl Coefficients                              \n",
      "==============================================================================\n",
      "alpha         -0.1264     0.3068    -0.4119     0.6804     -0.7278      0.4750\n",
      "Mkt-RF         1.1763     0.0834     14.111     0.0000      1.0129      1.3397\n",
      "SMB            0.5879     0.1180     4.9814     0.0000      0.3566      0.8192\n",
      "HML            0.0605     0.1434     0.4218     0.6732     -0.2205      0.3415\n",
      "RMW            0.5432     0.1902     2.8565     0.0043      0.1705      0.9159\n",
      "CMA           -0.0987     0.2614    -0.3774     0.7059     -0.6110      0.4137\n",
      "\n",
      "\n",
      "                              Chems Coefficients                              \n",
      "==============================================================================\n",
      "alpha         -0.1439     0.3248    -0.4431     0.6577     -0.7806      0.4927\n",
      "Mkt-RF         1.3512     0.1051     12.862     0.0000      1.1453      1.5571\n",
      "SMB            0.1682     0.1471     1.1433     0.2529     -0.1202      0.4566\n",
      "HML            0.1861     0.1469     1.2666     0.2053     -0.1019      0.4741\n",
      "RMW            0.1432     0.1915     0.7478     0.4546     -0.2321      0.5184\n",
      "CMA           -0.2148     0.2582    -0.8319     0.4055     -0.7208      0.2912\n",
      "\n",
      "\n",
      "                              Cnsum Coefficients                              \n",
      "==============================================================================\n",
      "alpha         -0.0439     0.3722    -0.1181     0.9060     -0.7735      0.6856\n",
      "Mkt-RF         0.7543     0.0577     13.076     0.0000      0.6412      0.8673\n",
      "SMB           -0.3443     0.1024    -3.3619     0.0008     -0.5450     -0.1436\n",
      "HML           -0.5542     0.1199    -4.6228     0.0000     -0.7892     -0.3192\n",
      "RMW           -0.0577     0.1352    -0.4266     0.6697     -0.3228      0.2074\n",
      "CMA            0.5888     0.2190     2.6889     0.0072      0.1596      1.0179\n",
      "\n",
      "\n",
      "                              Cnstr Coefficients                              \n",
      "==============================================================================\n",
      "alpha          0.5818     0.4326     1.3449     0.1787     -0.2661      1.4296\n",
      "Mkt-RF         1.1190     0.0823     13.594     0.0000      0.9577      1.2804\n",
      "SMB            0.4280     0.1333     3.2099     0.0013      0.1667      0.6893\n",
      "HML            0.0854     0.1892     0.4514     0.6517     -0.2854      0.4562\n",
      "RMW           -0.0204     0.2202    -0.0926     0.9262     -0.4519      0.4111\n",
      "CMA            0.1699     0.2386     0.7121     0.4764     -0.2977      0.6375\n",
      "\n",
      "\n",
      "                              Steel Coefficients                              \n",
      "==============================================================================\n",
      "alpha         -0.3962     0.4192    -0.9450     0.3446     -1.2179      0.4255\n",
      "Mkt-RF         1.4753     0.1372     10.755     0.0000      1.2064      1.7441\n",
      "SMB            0.4166     0.2584     1.6123     0.1069     -0.0898      0.9230\n",
      "HML            0.4246     0.2639     1.6089     0.1076     -0.0926      0.9419\n",
      "RMW            0.2044     0.3401     0.6009     0.5479     -0.4622      0.8709\n",
      "CMA            0.4448     0.4192     1.0611     0.2887     -0.3768      1.2664\n",
      "\n",
      "\n",
      "                              FabPr Coefficients                              \n",
      "==============================================================================\n",
      "alpha          0.1812     0.2972     0.6096     0.5421     -0.4013      0.7636\n",
      "Mkt-RF         1.0719     0.0750     14.290     0.0000      0.9249      1.2189\n",
      "SMB            0.4617     0.0993     4.6502     0.0000      0.2671      0.6563\n",
      "HML           -0.0359     0.1135    -0.3164     0.7517     -0.2584      0.1866\n",
      "RMW            0.1637     0.1465     1.1180     0.2635     -0.1233      0.4508\n",
      "CMA            0.1884     0.1920     0.9810     0.3266     -0.1880      0.5647\n",
      "\n",
      "\n",
      "                              Machn Coefficients                              \n",
      "==============================================================================\n",
      "alpha         -0.2914     0.2741    -1.0631     0.2877     -0.8286      0.2458\n",
      "Mkt-RF         1.1893     0.0579     20.530     0.0000      1.0758      1.3029\n",
      "SMB            0.1757     0.1059     1.6596     0.0970     -0.0318      0.3833\n",
      "HML            0.0318     0.1048     0.3035     0.7615     -0.1735      0.2371\n",
      "RMW            0.0527     0.1589     0.3319     0.7399     -0.2587      0.3641\n",
      "CMA           -0.3692     0.1760    -2.0979     0.0359     -0.7142     -0.0243\n",
      "\n",
      "\n",
      "                              Cars  Coefficients                              \n",
      "==============================================================================\n",
      "alpha         -0.1500     0.3974    -0.3773     0.7059     -0.9289      0.6290\n",
      "Mkt-RF         1.2018     0.0999     12.027     0.0000      1.0060      1.3977\n",
      "SMB            0.5929     0.1324     4.4766     0.0000      0.3333      0.8524\n",
      "HML            0.0295     0.1751     0.1687     0.8661     -0.3137      0.3728\n",
      "RMW            0.0393     0.2206     0.1779     0.8588     -0.3931      0.4716\n",
      "CMA           -0.0190     0.3047    -0.0624     0.9502     -0.6161      0.5781\n",
      "\n",
      "\n",
      "                              Trans Coefficients                              \n",
      "==============================================================================\n",
      "alpha          0.5010     0.3249     1.5420     0.1231     -0.1358      1.1377\n",
      "Mkt-RF         1.0228     0.0507     20.160     0.0000      0.9234      1.1223\n",
      "SMB            0.2674     0.1054     2.5380     0.0112      0.0609      0.4740\n",
      "HML           -0.0059     0.1233    -0.0479     0.9618     -0.2475      0.2357\n",
      "RMW            0.3833     0.1634     2.3458     0.0190      0.0630      0.7036\n",
      "CMA            0.2963     0.2018     1.4681     0.1421     -0.0993      0.6920\n",
      "\n",
      "\n",
      "                              Utils Coefficients                              \n",
      "==============================================================================\n",
      "alpha          0.3590     0.3097     1.1593     0.2463     -0.2480      0.9661\n",
      "Mkt-RF         0.4995     0.0904     5.5283     0.0000      0.3224      0.6766\n",
      "SMB           -0.2513     0.1549    -1.6217     0.1049     -0.5549      0.0524\n",
      "HML           -0.2920     0.1769    -1.6502     0.0989     -0.6388      0.0548\n",
      "RMW            0.2304     0.1933     1.1923     0.2332     -0.1484      0.6092\n",
      "CMA            0.5488     0.2995     1.8325     0.0669     -0.0382      1.1357\n",
      "\n",
      "\n",
      "                              Rtail Coefficients                              \n",
      "==============================================================================\n",
      "alpha          0.0172     0.2753     0.0625     0.9501     -0.5224      0.5568\n",
      "Mkt-RF         0.9110     0.0683     13.343     0.0000      0.7772      1.0448\n",
      "SMB            0.1286     0.0984     1.3070     0.1912     -0.0642      0.3214\n",
      "HML           -0.3766     0.1288    -2.9233     0.0035     -0.6291     -0.1241\n",
      "RMW            0.6727     0.1576     4.2677     0.0000      0.3637      0.9816\n",
      "CMA            0.1850     0.1704     1.0854     0.2777     -0.1490      0.5190\n",
      "\n",
      "\n",
      "                              Finan Coefficients                              \n",
      "==============================================================================\n",
      "alpha          0.3988     0.3738     1.0670     0.2860     -0.3337      1.1313\n",
      "Mkt-RF         1.0550     0.0442     23.889     0.0000      0.9685      1.1416\n",
      "SMB            0.0815     0.0893     0.9122     0.3617     -0.0936      0.2566\n",
      "HML            0.7651     0.0912     8.3894     0.0000      0.5864      0.9439\n",
      "RMW           -0.4589     0.1097    -4.1833     0.0000     -0.6739     -0.2439\n",
      "CMA           -0.5354     0.1158    -4.6225     0.0000     -0.7624     -0.3084\n",
      "\n",
      "\n",
      "                              Other Coefficients                              \n",
      "==============================================================================\n",
      "alpha         -0.1945     0.2274    -0.8550     0.3925     -0.6402      0.2513\n",
      "Mkt-RF         1.0324     0.0241     42.913     0.0000      0.9853      1.0796\n",
      "SMB           -0.1191     0.0390    -3.0515     0.0023     -0.1956     -0.0426\n",
      "HML           -0.1976     0.0346    -5.7043     0.0000     -0.2656     -0.1297\n",
      "RMW           -0.0933     0.0615    -1.5170     0.1293     -0.2139      0.0273\n",
      "CMA           -0.0400     0.0622    -0.6432     0.5201     -0.1618      0.0818\n",
      "==============================================================================\n",
      "\n",
      "Covariance estimator:\n",
      "HeteroskedasticCovariance\n",
      "See full_summary for complete results\n"
     ]
    }
   ],
   "source": [
    "print(res.full_summary)"
   ]
  },
  {
   "cell_type": "markdown",
   "metadata": {},
   "source": [
    "This provides us with the same result:"
   ]
  },
  {
   "cell_type": "code",
   "execution_count": 49,
   "metadata": {
    "ExecuteTime": {
     "end_time": "2021-04-15T19:55:21.926652Z",
     "start_time": "2021-04-15T19:55:21.922840Z"
    }
   },
   "outputs": [
    {
     "data": {
      "text/plain": [
       "Mkt-RF    1.232347\n",
       "SMB      -0.009800\n",
       "HML      -1.086731\n",
       "RMW      -0.277471\n",
       "CMA      -0.510356\n",
       "dtype: float64"
      ]
     },
     "execution_count": 49,
     "metadata": {},
     "output_type": "execute_result"
    }
   ],
   "source": [
    "lambdas.mean()"
   ]
  }
 ],
 "metadata": {
  "kernelspec": {
   "display_name": "Python 3 (ipykernel)",
   "language": "python",
   "name": "python3"
  },
  "language_info": {
   "codemirror_mode": {
    "name": "ipython",
    "version": 3
   },
   "file_extension": ".py",
   "mimetype": "text/x-python",
   "name": "python",
   "nbconvert_exporter": "python",
   "pygments_lexer": "ipython3",
   "version": "3.12.9"
  },
  "toc": {
   "base_numbering": 1,
   "nav_menu": {},
   "number_sections": true,
   "sideBar": true,
   "skip_h1_title": true,
   "title_cell": "Table of Contents",
   "title_sidebar": "Contents",
   "toc_cell": false,
   "toc_position": {},
   "toc_section_display": true,
   "toc_window_display": true
  }
 },
 "nbformat": 4,
 "nbformat_minor": 4
}
