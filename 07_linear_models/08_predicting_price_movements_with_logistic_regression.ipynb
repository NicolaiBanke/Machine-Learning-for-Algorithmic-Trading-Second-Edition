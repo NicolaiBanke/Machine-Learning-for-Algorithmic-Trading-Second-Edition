{
 "cells": [
  {
   "cell_type": "markdown",
   "metadata": {},
   "source": [
    "# Predicting stock price moves with Logistic Regression"
   ]
  },
  {
   "cell_type": "markdown",
   "metadata": {},
   "source": [
    "## Imports & Settings"
   ]
  },
  {
   "cell_type": "code",
   "execution_count": 1,
   "metadata": {
    "ExecuteTime": {
     "end_time": "2021-04-15T20:17:11.301878Z",
     "start_time": "2021-04-15T20:17:11.299202Z"
    }
   },
   "outputs": [],
   "source": [
    "import warnings\n",
    "warnings.filterwarnings('ignore')"
   ]
  },
  {
   "cell_type": "code",
   "execution_count": 2,
   "metadata": {
    "ExecuteTime": {
     "end_time": "2021-04-15T20:17:11.924039Z",
     "start_time": "2021-04-15T20:17:11.308933Z"
    }
   },
   "outputs": [],
   "source": [
    "from pathlib import Path\n",
    "import sys, os\n",
    "from time import time\n",
    "\n",
    "import pandas as pd\n",
    "import numpy as np\n",
    "\n",
    "from scipy.stats import spearmanr\n",
    "\n",
    "from sklearn.metrics import roc_auc_score\n",
    "from sklearn.linear_model import LogisticRegression\n",
    "from sklearn.pipeline import Pipeline\n",
    "from sklearn.preprocessing import StandardScaler\n",
    "\n",
    "import seaborn as sns\n",
    "import matplotlib.pyplot as plt"
   ]
  },
  {
   "cell_type": "code",
   "execution_count": 6,
   "metadata": {
    "ExecuteTime": {
     "end_time": "2021-04-15T20:17:11.932987Z",
     "start_time": "2021-04-15T20:17:11.925127Z"
    }
   },
   "outputs": [],
   "source": [
    "# For now, I circumvented this error by making a copy to this folder of utils.py\n",
    "sys.path.insert(1, os.path.join(sys.path[0], '..'))\n",
    "from utils import MultipleTimeSeriesCV"
   ]
  },
  {
   "cell_type": "code",
   "execution_count": 7,
   "metadata": {
    "ExecuteTime": {
     "end_time": "2021-04-15T20:17:11.947014Z",
     "start_time": "2021-04-15T20:17:11.934249Z"
    }
   },
   "outputs": [],
   "source": [
    "sns.set_style('darkgrid')\n",
    "idx = pd.IndexSlice"
   ]
  },
  {
   "cell_type": "code",
   "execution_count": 8,
   "metadata": {
    "ExecuteTime": {
     "end_time": "2021-04-15T20:17:11.966976Z",
     "start_time": "2021-04-15T20:17:11.948028Z"
    }
   },
   "outputs": [],
   "source": [
    "YEAR = 252"
   ]
  },
  {
   "cell_type": "markdown",
   "metadata": {},
   "source": [
    "## Load Data"
   ]
  },
  {
   "cell_type": "code",
   "execution_count": 10,
   "metadata": {
    "ExecuteTime": {
     "end_time": "2021-04-15T20:17:14.277183Z",
     "start_time": "2021-04-15T20:17:11.967819Z"
    }
   },
   "outputs": [],
   "source": [
    "with pd.HDFStore('/media/n1c0/SanDiskSSD/data.h5') as store:\n",
    "    data = (store['model_data']\n",
    "            .dropna()\n",
    "            .drop(['open', 'close', 'low', 'high'], axis=1))\n",
    "data = data.drop([c for c in data.columns if 'year' in c or 'lag' in c], axis=1)"
   ]
  },
  {
   "cell_type": "markdown",
   "metadata": {},
   "source": [
    "### Select Investment Universe"
   ]
  },
  {
   "cell_type": "code",
   "execution_count": 11,
   "metadata": {
    "ExecuteTime": {
     "end_time": "2021-04-15T20:17:14.301403Z",
     "start_time": "2021-04-15T20:17:14.280282Z"
    }
   },
   "outputs": [],
   "source": [
    "data = data[data.dollar_vol_rank<100]"
   ]
  },
  {
   "cell_type": "markdown",
   "metadata": {},
   "source": [
    "### Create Model Data"
   ]
  },
  {
   "cell_type": "code",
   "execution_count": 12,
   "metadata": {
    "ExecuteTime": {
     "end_time": "2021-04-15T20:17:14.311605Z",
     "start_time": "2021-04-15T20:17:14.302306Z"
    }
   },
   "outputs": [],
   "source": [
    "y = data.filter(like='target')\n",
    "X = data.drop(y.columns, axis=1)\n",
    "X = X.drop(['dollar_vol', 'dollar_vol_rank', 'volume', 'consumer_durables'], axis=1)"
   ]
  },
  {
   "cell_type": "markdown",
   "metadata": {},
   "source": [
    "## Logistic Regression"
   ]
  },
  {
   "cell_type": "markdown",
   "metadata": {},
   "source": [
    "### Define cross-validation parameters"
   ]
  },
  {
   "cell_type": "code",
   "execution_count": 13,
   "metadata": {
    "ExecuteTime": {
     "end_time": "2021-04-15T20:17:14.322985Z",
     "start_time": "2021-04-15T20:17:14.312772Z"
    }
   },
   "outputs": [],
   "source": [
    "train_period_length = 63\n",
    "test_period_length = 10\n",
    "lookahead =1\n",
    "n_splits = int(3 * YEAR/test_period_length)\n",
    "\n",
    "cv = MultipleTimeSeriesCV(n_splits=n_splits,\n",
    "                          test_period_length=test_period_length,\n",
    "                          lookahead=lookahead,\n",
    "                          train_period_length=train_period_length)"
   ]
  },
  {
   "cell_type": "code",
   "execution_count": 14,
   "metadata": {
    "ExecuteTime": {
     "end_time": "2021-04-15T20:17:14.332416Z",
     "start_time": "2021-04-15T20:17:14.323914Z"
    }
   },
   "outputs": [],
   "source": [
    "target = f'target_{lookahead}d'"
   ]
  },
  {
   "cell_type": "code",
   "execution_count": 15,
   "metadata": {
    "ExecuteTime": {
     "end_time": "2021-04-15T20:17:14.911301Z",
     "start_time": "2021-04-15T20:17:14.333178Z"
    }
   },
   "outputs": [
    {
     "data": {
      "text/plain": [
       "label\n",
       "1    56486\n",
       "0    53189\n",
       "Name: count, dtype: int64"
      ]
     },
     "execution_count": 15,
     "metadata": {},
     "output_type": "execute_result"
    }
   ],
   "source": [
    "y.loc[:, 'label'] = (y[target] > 0).astype(int)\n",
    "y.label.value_counts()"
   ]
  },
  {
   "cell_type": "code",
   "execution_count": 16,
   "metadata": {
    "ExecuteTime": {
     "end_time": "2021-04-15T20:17:14.914240Z",
     "start_time": "2021-04-15T20:17:14.912145Z"
    }
   },
   "outputs": [],
   "source": [
    "Cs = np.logspace(-5, 5, 11)"
   ]
  },
  {
   "cell_type": "code",
   "execution_count": 17,
   "metadata": {
    "ExecuteTime": {
     "end_time": "2021-04-15T20:17:14.927937Z",
     "start_time": "2021-04-15T20:17:14.915111Z"
    }
   },
   "outputs": [],
   "source": [
    "cols = ['C', 'date', 'auc', 'ic', 'pval']"
   ]
  },
  {
   "cell_type": "markdown",
   "metadata": {},
   "source": [
    "### Run cross-validation"
   ]
  },
  {
   "cell_type": "code",
   "execution_count": 18,
   "metadata": {
    "ExecuteTime": {
     "end_time": "2021-04-15T20:19:33.666469Z",
     "start_time": "2021-04-15T20:17:14.928766Z"
    }
   },
   "outputs": [
    {
     "name": "stdout",
     "output_type": "stream",
     "text": [
      "1e-05\n",
      "\t  5.9 | 010 |  -0.31% |  50.42%\n",
      "\t 11.5 | 020 |   1.89% |  51.83%\n",
      "\t 12.8 | 030 |   2.84% |  52.01%\n",
      "\t 14.1 | 040 |   3.29% |  51.98%\n",
      "\t 15.3 | 050 |   3.97% |  52.44%\n",
      "\t 16.6 | 060 |   3.96% |  52.27%\n",
      "\t 17.9 | 070 |   4.73% |  52.59%\n",
      "0.0001\n",
      "\t  1.3 | 010 |  -0.06% |  50.62%\n",
      "\t  2.5 | 020 |   2.22% |  52.01%\n",
      "\t  3.8 | 030 |   3.20% |  52.26%\n",
      "\t  5.1 | 040 |   3.34% |  52.08%\n",
      "\t  6.3 | 050 |   4.02% |  52.52%\n",
      "\t  7.6 | 060 |   4.02% |  52.32%\n",
      "\t  8.8 | 070 |   4.82% |  52.67%\n",
      "0.001\n",
      "\t  1.3 | 010 |   0.42% |  50.96%\n",
      "\t  2.5 | 020 |   2.53% |  52.14%\n",
      "\t  3.8 | 030 |   3.58% |  52.48%\n",
      "\t  5.1 | 040 |   3.17% |  52.07%\n",
      "\t  6.3 | 050 |   3.84% |  52.49%\n",
      "\t  7.6 | 060 |   4.03% |  52.33%\n",
      "\t  8.8 | 070 |   4.88% |  52.70%\n",
      "0.01\n",
      "\t  1.3 | 010 |   0.69% |  51.14%\n",
      "\t  2.6 | 020 |   2.39% |  51.97%\n",
      "\t  3.8 | 030 |   3.64% |  52.41%\n",
      "\t  5.1 | 040 |   3.12% |  51.94%\n",
      "\t  6.4 | 050 |   3.91% |  52.45%\n",
      "\t  7.7 | 060 |   4.15% |  52.30%\n",
      "\t  8.9 | 070 |   4.90% |  52.64%\n",
      "0.1\n",
      "\t  1.2 | 010 |   0.65% |  51.11%\n",
      "\t  2.5 | 020 |   2.15% |  51.79%\n",
      "\t  3.9 | 030 |   3.47% |  52.27%\n",
      "\t  5.2 | 040 |   2.93% |  51.79%\n",
      "\t  6.5 | 050 |   3.73% |  52.31%\n",
      "\t  7.8 | 060 |   3.92% |  52.15%\n",
      "\t  9.1 | 070 |   4.58% |  52.46%\n",
      "1.0\n",
      "\t  1.4 | 010 |   0.60% |  51.07%\n",
      "\t  2.7 | 020 |   2.12% |  51.76%\n",
      "\t  4.0 | 030 |   3.45% |  52.26%\n",
      "\t  5.3 | 040 |   2.90% |  51.77%\n",
      "\t  6.6 | 050 |   3.69% |  52.28%\n",
      "\t  7.9 | 060 |   3.87% |  52.11%\n",
      "\t  9.2 | 070 |   4.51% |  52.42%\n",
      "10.0\n",
      "\t  1.3 | 010 |   0.59% |  51.07%\n",
      "\t  2.6 | 020 |   2.11% |  51.75%\n",
      "\t  3.9 | 030 |   3.44% |  52.25%\n",
      "\t  5.2 | 040 |   2.89% |  51.77%\n",
      "\t  6.6 | 050 |   3.68% |  52.28%\n",
      "\t  7.9 | 060 |   3.86% |  52.11%\n",
      "\t  9.2 | 070 |   4.49% |  52.41%\n",
      "100.0\n",
      "\t  1.3 | 010 |   0.58% |  51.07%\n",
      "\t  2.6 | 020 |   2.11% |  51.75%\n",
      "\t  3.9 | 030 |   3.45% |  52.25%\n",
      "\t  5.3 | 040 |   2.89% |  51.76%\n",
      "\t  6.6 | 050 |   3.68% |  52.27%\n",
      "\t  7.9 | 060 |   3.86% |  52.11%\n",
      "\t  9.2 | 070 |   4.49% |  52.41%\n",
      "1000.0\n",
      "\t  1.3 | 010 |   0.58% |  51.07%\n",
      "\t  2.5 | 020 |   2.11% |  51.75%\n",
      "\t  3.8 | 030 |   3.44% |  52.25%\n",
      "\t  5.2 | 040 |   2.89% |  51.76%\n",
      "\t  6.5 | 050 |   3.68% |  52.27%\n",
      "\t  7.8 | 060 |   3.86% |  52.11%\n",
      "\t  9.1 | 070 |   4.49% |  52.41%\n",
      "10000.0\n",
      "\t  1.3 | 010 |   0.58% |  51.07%\n",
      "\t  2.6 | 020 |   2.11% |  51.75%\n",
      "\t  3.9 | 030 |   3.44% |  52.25%\n",
      "\t  5.2 | 040 |   2.89% |  51.76%\n",
      "\t  6.5 | 050 |   3.68% |  52.27%\n",
      "\t  7.8 | 060 |   3.86% |  52.11%\n",
      "\t  9.2 | 070 |   4.49% |  52.41%\n",
      "100000.0\n",
      "\t  1.2 | 010 |   0.58% |  51.07%\n",
      "\t  2.5 | 020 |   2.11% |  51.75%\n",
      "\t  3.9 | 030 |   3.44% |  52.25%\n",
      "\t  5.3 | 040 |   2.89% |  51.76%\n",
      "\t  6.5 | 050 |   3.68% |  52.27%\n",
      "\t  7.8 | 060 |   3.86% |  52.11%\n",
      "\t  9.1 | 070 |   4.49% |  52.41%\n",
      "CPU times: user 14 s, sys: 1.1 s, total: 15.1 s\n",
      "Wall time: 1min 55s\n"
     ]
    }
   ],
   "source": [
    "%%time\n",
    "log_coeffs, log_scores, log_predictions = {}, [], []\n",
    "for C in Cs:\n",
    "    print(C)\n",
    "    model = LogisticRegression(C=C,\n",
    "                               fit_intercept=True,\n",
    "                               random_state=42,\n",
    "                               n_jobs=-1)\n",
    "\n",
    "    pipe = Pipeline([\n",
    "        ('scaler', StandardScaler()),\n",
    "        ('model', model)])\n",
    "    ics = aucs = 0\n",
    "    start = time()\n",
    "    coeffs = []\n",
    "    for i, (train_idx, test_idx) in enumerate(cv.split(X), 1):\n",
    "        X_train, y_train, = X.iloc[train_idx], y.label.iloc[train_idx]\n",
    "        pipe.fit(X=X_train, y=y_train)\n",
    "        X_test, y_test = X.iloc[test_idx], y.label.iloc[test_idx]\n",
    "        actuals = y[target].iloc[test_idx]\n",
    "        if len(y_test) < 10 or len(np.unique(y_test)) < 2:\n",
    "            continue\n",
    "        y_score = pipe.predict_proba(X_test)[:, 1]\n",
    "       \n",
    "        auc = roc_auc_score(y_score=y_score, y_true=y_test)\n",
    "        actuals = y[target].iloc[test_idx]\n",
    "        ic, pval = spearmanr(y_score, actuals)\n",
    "\n",
    "        log_predictions.append(y_test.to_frame('labels').assign(\n",
    "            predicted=y_score, C=C, actuals=actuals))\n",
    "        date = y_test.index.get_level_values('date').min()\n",
    "        log_scores.append([C, date, auc, ic * 100, pval])\n",
    "        coeffs.append(pipe.named_steps['model'].coef_)\n",
    "        ics += ic\n",
    "        aucs += auc\n",
    "        if i % 10 == 0:\n",
    "            print(f'\\t{time()-start:5.1f} | {i:03} | {ics/i:>7.2%} | {aucs/i:>7.2%}')\n",
    "\n",
    "    log_coeffs[C] = np.mean(coeffs, axis=0).squeeze()"
   ]
  },
  {
   "cell_type": "markdown",
   "metadata": {},
   "source": [
    "### Evaluate Results"
   ]
  },
  {
   "cell_type": "code",
   "execution_count": 19,
   "metadata": {
    "ExecuteTime": {
     "end_time": "2021-04-15T20:19:33.956450Z",
     "start_time": "2021-04-15T20:19:33.667672Z"
    }
   },
   "outputs": [],
   "source": [
    "log_scores = pd.DataFrame(log_scores, columns=cols)\n",
    "log_scores.to_hdf('/media/n1c0/SanDiskSSD/data.h5', 'logistic/scores')\n",
    "\n",
    "log_coeffs = pd.DataFrame(log_coeffs, index=X.columns).T\n",
    "log_coeffs.to_hdf('/media/n1c0/SanDiskSSD/data.h5', 'logistic/coeffs')\n",
    "\n",
    "log_predictions = pd.concat(log_predictions)\n",
    "log_predictions.to_hdf('/media/n1c0/SanDiskSSD/data.h5', 'logistic/predictions')"
   ]
  },
  {
   "cell_type": "code",
   "execution_count": 20,
   "metadata": {
    "ExecuteTime": {
     "end_time": "2021-04-15T20:19:33.965130Z",
     "start_time": "2021-04-15T20:19:33.957366Z"
    }
   },
   "outputs": [],
   "source": [
    "log_scores = pd.read_hdf('/media/n1c0/SanDiskSSD/data.h5', 'logistic/scores')"
   ]
  },
  {
   "cell_type": "code",
   "execution_count": 21,
   "metadata": {
    "ExecuteTime": {
     "end_time": "2021-04-15T20:19:33.977971Z",
     "start_time": "2021-04-15T20:19:33.966220Z"
    }
   },
   "outputs": [
    {
     "name": "stdout",
     "output_type": "stream",
     "text": [
      "<class 'pandas.core.frame.DataFrame'>\n",
      "Index: 825 entries, 0 to 824\n",
      "Data columns (total 5 columns):\n",
      " #   Column  Non-Null Count  Dtype         \n",
      "---  ------  --------------  -----         \n",
      " 0   C       825 non-null    float64       \n",
      " 1   date    825 non-null    datetime64[ns]\n",
      " 2   auc     825 non-null    float64       \n",
      " 3   ic      825 non-null    float64       \n",
      " 4   pval    825 non-null    float64       \n",
      "dtypes: datetime64[ns](1), float64(4)\n",
      "memory usage: 38.7 KB\n"
     ]
    }
   ],
   "source": [
    "log_scores.info()"
   ]
  },
  {
   "cell_type": "code",
   "execution_count": 22,
   "metadata": {
    "ExecuteTime": {
     "end_time": "2021-04-15T20:19:34.020011Z",
     "start_time": "2021-04-15T20:19:33.979814Z"
    }
   },
   "outputs": [
    {
     "data": {
      "text/html": [
       "<div>\n",
       "<style scoped>\n",
       "    .dataframe tbody tr th:only-of-type {\n",
       "        vertical-align: middle;\n",
       "    }\n",
       "\n",
       "    .dataframe tbody tr th {\n",
       "        vertical-align: top;\n",
       "    }\n",
       "\n",
       "    .dataframe thead th {\n",
       "        text-align: right;\n",
       "    }\n",
       "</style>\n",
       "<table border=\"1\" class=\"dataframe\">\n",
       "  <thead>\n",
       "    <tr style=\"text-align: right;\">\n",
       "      <th></th>\n",
       "      <th>count</th>\n",
       "      <th>mean</th>\n",
       "      <th>std</th>\n",
       "      <th>min</th>\n",
       "      <th>25%</th>\n",
       "      <th>50%</th>\n",
       "      <th>75%</th>\n",
       "      <th>max</th>\n",
       "    </tr>\n",
       "    <tr>\n",
       "      <th>C</th>\n",
       "      <th></th>\n",
       "      <th></th>\n",
       "      <th></th>\n",
       "      <th></th>\n",
       "      <th></th>\n",
       "      <th></th>\n",
       "      <th></th>\n",
       "      <th></th>\n",
       "    </tr>\n",
       "  </thead>\n",
       "  <tbody>\n",
       "    <tr>\n",
       "      <th>0.00001</th>\n",
       "      <td>75.0</td>\n",
       "      <td>0.524319</td>\n",
       "      <td>0.036129</td>\n",
       "      <td>0.432474</td>\n",
       "      <td>0.499748</td>\n",
       "      <td>0.519363</td>\n",
       "      <td>0.546010</td>\n",
       "      <td>0.625910</td>\n",
       "    </tr>\n",
       "    <tr>\n",
       "      <th>0.00010</th>\n",
       "      <td>75.0</td>\n",
       "      <td>0.525027</td>\n",
       "      <td>0.035672</td>\n",
       "      <td>0.442546</td>\n",
       "      <td>0.501468</td>\n",
       "      <td>0.520045</td>\n",
       "      <td>0.546001</td>\n",
       "      <td>0.635522</td>\n",
       "    </tr>\n",
       "    <tr>\n",
       "      <th>0.00100</th>\n",
       "      <td>75.0</td>\n",
       "      <td>0.525451</td>\n",
       "      <td>0.036366</td>\n",
       "      <td>0.438760</td>\n",
       "      <td>0.500371</td>\n",
       "      <td>0.520116</td>\n",
       "      <td>0.545270</td>\n",
       "      <td>0.641135</td>\n",
       "    </tr>\n",
       "    <tr>\n",
       "      <th>0.01000</th>\n",
       "      <td>75.0</td>\n",
       "      <td>0.525041</td>\n",
       "      <td>0.036924</td>\n",
       "      <td>0.435667</td>\n",
       "      <td>0.500665</td>\n",
       "      <td>0.522229</td>\n",
       "      <td>0.550606</td>\n",
       "      <td>0.641525</td>\n",
       "    </tr>\n",
       "    <tr>\n",
       "      <th>0.10000</th>\n",
       "      <td>75.0</td>\n",
       "      <td>0.523519</td>\n",
       "      <td>0.036514</td>\n",
       "      <td>0.427242</td>\n",
       "      <td>0.499618</td>\n",
       "      <td>0.522998</td>\n",
       "      <td>0.549215</td>\n",
       "      <td>0.622396</td>\n",
       "    </tr>\n",
       "    <tr>\n",
       "      <th>1.00000</th>\n",
       "      <td>75.0</td>\n",
       "      <td>0.523177</td>\n",
       "      <td>0.036477</td>\n",
       "      <td>0.425275</td>\n",
       "      <td>0.498439</td>\n",
       "      <td>0.521708</td>\n",
       "      <td>0.549034</td>\n",
       "      <td>0.616945</td>\n",
       "    </tr>\n",
       "    <tr>\n",
       "      <th>10.00000</th>\n",
       "      <td>75.0</td>\n",
       "      <td>0.523111</td>\n",
       "      <td>0.036482</td>\n",
       "      <td>0.424928</td>\n",
       "      <td>0.498357</td>\n",
       "      <td>0.521492</td>\n",
       "      <td>0.549019</td>\n",
       "      <td>0.616243</td>\n",
       "    </tr>\n",
       "    <tr>\n",
       "      <th>100.00000</th>\n",
       "      <td>75.0</td>\n",
       "      <td>0.523101</td>\n",
       "      <td>0.036484</td>\n",
       "      <td>0.424913</td>\n",
       "      <td>0.498355</td>\n",
       "      <td>0.521455</td>\n",
       "      <td>0.549040</td>\n",
       "      <td>0.616148</td>\n",
       "    </tr>\n",
       "    <tr>\n",
       "      <th>1000.00000</th>\n",
       "      <td>75.0</td>\n",
       "      <td>0.523100</td>\n",
       "      <td>0.036486</td>\n",
       "      <td>0.424894</td>\n",
       "      <td>0.498361</td>\n",
       "      <td>0.521451</td>\n",
       "      <td>0.549036</td>\n",
       "      <td>0.616153</td>\n",
       "    </tr>\n",
       "    <tr>\n",
       "      <th>10000.00000</th>\n",
       "      <td>75.0</td>\n",
       "      <td>0.523101</td>\n",
       "      <td>0.036485</td>\n",
       "      <td>0.424899</td>\n",
       "      <td>0.498361</td>\n",
       "      <td>0.521451</td>\n",
       "      <td>0.549038</td>\n",
       "      <td>0.616148</td>\n",
       "    </tr>\n",
       "    <tr>\n",
       "      <th>100000.00000</th>\n",
       "      <td>75.0</td>\n",
       "      <td>0.523101</td>\n",
       "      <td>0.036486</td>\n",
       "      <td>0.424894</td>\n",
       "      <td>0.498361</td>\n",
       "      <td>0.521451</td>\n",
       "      <td>0.549040</td>\n",
       "      <td>0.616148</td>\n",
       "    </tr>\n",
       "  </tbody>\n",
       "</table>\n",
       "</div>"
      ],
      "text/plain": [
       "              count      mean       std       min       25%       50%  \\\n",
       "C                                                                       \n",
       "0.00001        75.0  0.524319  0.036129  0.432474  0.499748  0.519363   \n",
       "0.00010        75.0  0.525027  0.035672  0.442546  0.501468  0.520045   \n",
       "0.00100        75.0  0.525451  0.036366  0.438760  0.500371  0.520116   \n",
       "0.01000        75.0  0.525041  0.036924  0.435667  0.500665  0.522229   \n",
       "0.10000        75.0  0.523519  0.036514  0.427242  0.499618  0.522998   \n",
       "1.00000        75.0  0.523177  0.036477  0.425275  0.498439  0.521708   \n",
       "10.00000       75.0  0.523111  0.036482  0.424928  0.498357  0.521492   \n",
       "100.00000      75.0  0.523101  0.036484  0.424913  0.498355  0.521455   \n",
       "1000.00000     75.0  0.523100  0.036486  0.424894  0.498361  0.521451   \n",
       "10000.00000    75.0  0.523101  0.036485  0.424899  0.498361  0.521451   \n",
       "100000.00000   75.0  0.523101  0.036486  0.424894  0.498361  0.521451   \n",
       "\n",
       "                   75%       max  \n",
       "C                                 \n",
       "0.00001       0.546010  0.625910  \n",
       "0.00010       0.546001  0.635522  \n",
       "0.00100       0.545270  0.641135  \n",
       "0.01000       0.550606  0.641525  \n",
       "0.10000       0.549215  0.622396  \n",
       "1.00000       0.549034  0.616945  \n",
       "10.00000      0.549019  0.616243  \n",
       "100.00000     0.549040  0.616148  \n",
       "1000.00000    0.549036  0.616153  \n",
       "10000.00000   0.549038  0.616148  \n",
       "100000.00000  0.549040  0.616148  "
      ]
     },
     "execution_count": 22,
     "metadata": {},
     "output_type": "execute_result"
    }
   ],
   "source": [
    "log_scores.groupby('C').auc.describe()"
   ]
  },
  {
   "cell_type": "markdown",
   "metadata": {},
   "source": [
    "### Plot Validation Scores"
   ]
  },
  {
   "cell_type": "code",
   "execution_count": 23,
   "metadata": {
    "ExecuteTime": {
     "end_time": "2021-04-15T20:19:34.023860Z",
     "start_time": "2021-04-15T20:19:34.020958Z"
    }
   },
   "outputs": [],
   "source": [
    "def plot_ic_distribution(df, ax=None):\n",
    "    if ax is not None:\n",
    "        sns.distplot(df.ic, ax=ax)    \n",
    "    else:\n",
    "        ax = sns.distplot(df.ic)\n",
    "    mean, median = df.ic.mean(), df.ic.median()\n",
    "    ax.axvline(0, lw=1, ls='--', c='k')\n",
    "    ax.text(x=.05, y=.9, s=f'Mean: {mean:8.2f}\\nMedian: {median:5.2f}',\n",
    "            horizontalalignment='left',\n",
    "            verticalalignment='center',\n",
    "            transform=ax.transAxes)\n",
    "    ax.set_xlabel('Information Coefficient')\n",
    "    sns.despine()\n",
    "    plt.tight_layout()"
   ]
  },
  {
   "cell_type": "code",
   "execution_count": 24,
   "metadata": {
    "ExecuteTime": {
     "end_time": "2021-04-15T20:19:34.625209Z",
     "start_time": "2021-04-15T20:19:34.025174Z"
    }
   },
   "outputs": [
    {
     "data": {
      "image/png": "[encoded data removed]",
      "text/plain": [
       "<Figure size 1500x500 with 2 Axes>"
      ]
     },
     "metadata": {},
     "output_type": "display_data"
    }
   ],
   "source": [
    "fig, axes= plt.subplots(ncols=2, figsize=(15, 5))\n",
    "\n",
    "sns.lineplot(x='C', y='auc', data=log_scores, estimator=np.mean, label='Mean', ax=axes[0])\n",
    "by_alpha = log_scores.groupby('C').auc.agg(['mean', 'median'])\n",
    "best_auc = by_alpha['mean'].idxmax()\n",
    "by_alpha['median'].plot(logx=True, ax=axes[0], label='Median', xlim=(10e-6, 10e5))\n",
    "axes[0].axvline(best_auc, ls='--', c='k', lw=1, label='Max. Mean')\n",
    "axes[0].axvline(by_alpha['median'].idxmax(), ls='-.', c='k', lw=1, label='Max. Median')\n",
    "axes[0].legend()\n",
    "axes[0].set_ylabel('AUC')\n",
    "axes[0].set_xscale('log')\n",
    "axes[0].set_title('Area Under the Curve')\n",
    "\n",
    "plot_ic_distribution(log_scores[log_scores.C==best_auc], ax=axes[1])\n",
    "axes[1].set_title('Information Coefficient')\n",
    "\n",
    "fig.suptitle('Logistic Regression', fontsize=14)\n",
    "sns.despine()\n",
    "fig.tight_layout()\n",
    "fig.subplots_adjust(top=.9);"
   ]
  },
  {
   "cell_type": "code",
   "execution_count": null,
   "metadata": {},
   "outputs": [],
   "source": []
  }
 ],
 "metadata": {
  "kernelspec": {
   "display_name": "Python 3 (ipykernel)",
   "language": "python",
   "name": "python3"
  },
  "language_info": {
   "codemirror_mode": {
    "name": "ipython",
    "version": 3
   },
   "file_extension": ".py",
   "mimetype": "text/x-python",
   "name": "python",
   "nbconvert_exporter": "python",
   "pygments_lexer": "ipython3",
   "version": "3.12.9"
  },
  "toc": {
   "base_numbering": 1,
   "nav_menu": {},
   "number_sections": true,
   "sideBar": true,
   "skip_h1_title": true,
   "title_cell": "Table of Contents",
   "title_sidebar": "Contents",
   "toc_cell": false,
   "toc_position": {},
   "toc_section_display": true,
   "toc_window_display": true
  }
 },
 "nbformat": 4,
 "nbformat_minor": 4
}
